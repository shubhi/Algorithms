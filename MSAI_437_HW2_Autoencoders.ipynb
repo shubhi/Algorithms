{
  "nbformat": 4,
  "nbformat_minor": 0,
  "metadata": {
    "colab": {
      "provenance": [],
      "authorship_tag": "ABX9TyM1RzdGWPZWlgh85pJ7Gony",
      "include_colab_link": true
    },
    "kernelspec": {
      "name": "python3",
      "display_name": "Python 3"
    },
    "language_info": {
      "name": "python"
    },
    "widgets": {
      "application/vnd.jupyter.widget-state+json": {
        "fd9a5786a2df48a0bb0edb425e70a876": {
          "model_module": "@jupyter-widgets/controls",
          "model_name": "HBoxModel",
          "model_module_version": "1.5.0",
          "state": {
            "_dom_classes": [],
            "_model_module": "@jupyter-widgets/controls",
            "_model_module_version": "1.5.0",
            "_model_name": "HBoxModel",
            "_view_count": null,
            "_view_module": "@jupyter-widgets/controls",
            "_view_module_version": "1.5.0",
            "_view_name": "HBoxView",
            "box_style": "",
            "children": [
              "IPY_MODEL_4928d89d648843bdbd72d4c0bfb72210",
              "IPY_MODEL_8d923dc5a5ef48a08660273f0651e8b5",
              "IPY_MODEL_af906c63e7bf491784d175d1d4785269"
            ],
            "layout": "IPY_MODEL_2bf3ac9e0f9f4477ac1f394aa71e66bc"
          }
        },
        "4928d89d648843bdbd72d4c0bfb72210": {
          "model_module": "@jupyter-widgets/controls",
          "model_name": "HTMLModel",
          "model_module_version": "1.5.0",
          "state": {
            "_dom_classes": [],
            "_model_module": "@jupyter-widgets/controls",
            "_model_module_version": "1.5.0",
            "_model_name": "HTMLModel",
            "_view_count": null,
            "_view_module": "@jupyter-widgets/controls",
            "_view_module_version": "1.5.0",
            "_view_name": "HTMLView",
            "description": "",
            "description_tooltip": null,
            "layout": "IPY_MODEL_f8d8bc5542e04fe08a846e3992b3e746",
            "placeholder": "​",
            "style": "IPY_MODEL_0a2bcde91de64b8099b0a7389c4d2ab8",
            "value": "Downloading metadata: 100%"
          }
        },
        "8d923dc5a5ef48a08660273f0651e8b5": {
          "model_module": "@jupyter-widgets/controls",
          "model_name": "FloatProgressModel",
          "model_module_version": "1.5.0",
          "state": {
            "_dom_classes": [],
            "_model_module": "@jupyter-widgets/controls",
            "_model_module_version": "1.5.0",
            "_model_name": "FloatProgressModel",
            "_view_count": null,
            "_view_module": "@jupyter-widgets/controls",
            "_view_module_version": "1.5.0",
            "_view_name": "ProgressView",
            "bar_style": "success",
            "description": "",
            "description_tooltip": null,
            "layout": "IPY_MODEL_c613b012a4a5488fa8e86be955c47648",
            "max": 720,
            "min": 0,
            "orientation": "horizontal",
            "style": "IPY_MODEL_61839a43d80b4eb3948c6ac2056d199f",
            "value": 720
          }
        },
        "af906c63e7bf491784d175d1d4785269": {
          "model_module": "@jupyter-widgets/controls",
          "model_name": "HTMLModel",
          "model_module_version": "1.5.0",
          "state": {
            "_dom_classes": [],
            "_model_module": "@jupyter-widgets/controls",
            "_model_module_version": "1.5.0",
            "_model_name": "HTMLModel",
            "_view_count": null,
            "_view_module": "@jupyter-widgets/controls",
            "_view_module_version": "1.5.0",
            "_view_name": "HTMLView",
            "description": "",
            "description_tooltip": null,
            "layout": "IPY_MODEL_dc121dc546274afba502bf989fe753d5",
            "placeholder": "​",
            "style": "IPY_MODEL_661a48d5d2524009a15ce1b6f3844679",
            "value": " 720/720 [00:00&lt;00:00, 20.0kB/s]"
          }
        },
        "2bf3ac9e0f9f4477ac1f394aa71e66bc": {
          "model_module": "@jupyter-widgets/base",
          "model_name": "LayoutModel",
          "model_module_version": "1.2.0",
          "state": {
            "_model_module": "@jupyter-widgets/base",
            "_model_module_version": "1.2.0",
            "_model_name": "LayoutModel",
            "_view_count": null,
            "_view_module": "@jupyter-widgets/base",
            "_view_module_version": "1.2.0",
            "_view_name": "LayoutView",
            "align_content": null,
            "align_items": null,
            "align_self": null,
            "border": null,
            "bottom": null,
            "display": null,
            "flex": null,
            "flex_flow": null,
            "grid_area": null,
            "grid_auto_columns": null,
            "grid_auto_flow": null,
            "grid_auto_rows": null,
            "grid_column": null,
            "grid_gap": null,
            "grid_row": null,
            "grid_template_areas": null,
            "grid_template_columns": null,
            "grid_template_rows": null,
            "height": null,
            "justify_content": null,
            "justify_items": null,
            "left": null,
            "margin": null,
            "max_height": null,
            "max_width": null,
            "min_height": null,
            "min_width": null,
            "object_fit": null,
            "object_position": null,
            "order": null,
            "overflow": null,
            "overflow_x": null,
            "overflow_y": null,
            "padding": null,
            "right": null,
            "top": null,
            "visibility": null,
            "width": null
          }
        },
        "f8d8bc5542e04fe08a846e3992b3e746": {
          "model_module": "@jupyter-widgets/base",
          "model_name": "LayoutModel",
          "model_module_version": "1.2.0",
          "state": {
            "_model_module": "@jupyter-widgets/base",
            "_model_module_version": "1.2.0",
            "_model_name": "LayoutModel",
            "_view_count": null,
            "_view_module": "@jupyter-widgets/base",
            "_view_module_version": "1.2.0",
            "_view_name": "LayoutView",
            "align_content": null,
            "align_items": null,
            "align_self": null,
            "border": null,
            "bottom": null,
            "display": null,
            "flex": null,
            "flex_flow": null,
            "grid_area": null,
            "grid_auto_columns": null,
            "grid_auto_flow": null,
            "grid_auto_rows": null,
            "grid_column": null,
            "grid_gap": null,
            "grid_row": null,
            "grid_template_areas": null,
            "grid_template_columns": null,
            "grid_template_rows": null,
            "height": null,
            "justify_content": null,
            "justify_items": null,
            "left": null,
            "margin": null,
            "max_height": null,
            "max_width": null,
            "min_height": null,
            "min_width": null,
            "object_fit": null,
            "object_position": null,
            "order": null,
            "overflow": null,
            "overflow_x": null,
            "overflow_y": null,
            "padding": null,
            "right": null,
            "top": null,
            "visibility": null,
            "width": null
          }
        },
        "0a2bcde91de64b8099b0a7389c4d2ab8": {
          "model_module": "@jupyter-widgets/controls",
          "model_name": "DescriptionStyleModel",
          "model_module_version": "1.5.0",
          "state": {
            "_model_module": "@jupyter-widgets/controls",
            "_model_module_version": "1.5.0",
            "_model_name": "DescriptionStyleModel",
            "_view_count": null,
            "_view_module": "@jupyter-widgets/base",
            "_view_module_version": "1.2.0",
            "_view_name": "StyleView",
            "description_width": ""
          }
        },
        "c613b012a4a5488fa8e86be955c47648": {
          "model_module": "@jupyter-widgets/base",
          "model_name": "LayoutModel",
          "model_module_version": "1.2.0",
          "state": {
            "_model_module": "@jupyter-widgets/base",
            "_model_module_version": "1.2.0",
            "_model_name": "LayoutModel",
            "_view_count": null,
            "_view_module": "@jupyter-widgets/base",
            "_view_module_version": "1.2.0",
            "_view_name": "LayoutView",
            "align_content": null,
            "align_items": null,
            "align_self": null,
            "border": null,
            "bottom": null,
            "display": null,
            "flex": null,
            "flex_flow": null,
            "grid_area": null,
            "grid_auto_columns": null,
            "grid_auto_flow": null,
            "grid_auto_rows": null,
            "grid_column": null,
            "grid_gap": null,
            "grid_row": null,
            "grid_template_areas": null,
            "grid_template_columns": null,
            "grid_template_rows": null,
            "height": null,
            "justify_content": null,
            "justify_items": null,
            "left": null,
            "margin": null,
            "max_height": null,
            "max_width": null,
            "min_height": null,
            "min_width": null,
            "object_fit": null,
            "object_position": null,
            "order": null,
            "overflow": null,
            "overflow_x": null,
            "overflow_y": null,
            "padding": null,
            "right": null,
            "top": null,
            "visibility": null,
            "width": null
          }
        },
        "61839a43d80b4eb3948c6ac2056d199f": {
          "model_module": "@jupyter-widgets/controls",
          "model_name": "ProgressStyleModel",
          "model_module_version": "1.5.0",
          "state": {
            "_model_module": "@jupyter-widgets/controls",
            "_model_module_version": "1.5.0",
            "_model_name": "ProgressStyleModel",
            "_view_count": null,
            "_view_module": "@jupyter-widgets/base",
            "_view_module_version": "1.2.0",
            "_view_name": "StyleView",
            "bar_color": null,
            "description_width": ""
          }
        },
        "dc121dc546274afba502bf989fe753d5": {
          "model_module": "@jupyter-widgets/base",
          "model_name": "LayoutModel",
          "model_module_version": "1.2.0",
          "state": {
            "_model_module": "@jupyter-widgets/base",
            "_model_module_version": "1.2.0",
            "_model_name": "LayoutModel",
            "_view_count": null,
            "_view_module": "@jupyter-widgets/base",
            "_view_module_version": "1.2.0",
            "_view_name": "LayoutView",
            "align_content": null,
            "align_items": null,
            "align_self": null,
            "border": null,
            "bottom": null,
            "display": null,
            "flex": null,
            "flex_flow": null,
            "grid_area": null,
            "grid_auto_columns": null,
            "grid_auto_flow": null,
            "grid_auto_rows": null,
            "grid_column": null,
            "grid_gap": null,
            "grid_row": null,
            "grid_template_areas": null,
            "grid_template_columns": null,
            "grid_template_rows": null,
            "height": null,
            "justify_content": null,
            "justify_items": null,
            "left": null,
            "margin": null,
            "max_height": null,
            "max_width": null,
            "min_height": null,
            "min_width": null,
            "object_fit": null,
            "object_position": null,
            "order": null,
            "overflow": null,
            "overflow_x": null,
            "overflow_y": null,
            "padding": null,
            "right": null,
            "top": null,
            "visibility": null,
            "width": null
          }
        },
        "661a48d5d2524009a15ce1b6f3844679": {
          "model_module": "@jupyter-widgets/controls",
          "model_name": "DescriptionStyleModel",
          "model_module_version": "1.5.0",
          "state": {
            "_model_module": "@jupyter-widgets/controls",
            "_model_module_version": "1.5.0",
            "_model_name": "DescriptionStyleModel",
            "_view_count": null,
            "_view_module": "@jupyter-widgets/base",
            "_view_module_version": "1.2.0",
            "_view_name": "StyleView",
            "description_width": ""
          }
        },
        "a13806dcc2c946b2ac9787fe5c65dbe9": {
          "model_module": "@jupyter-widgets/controls",
          "model_name": "HBoxModel",
          "model_module_version": "1.5.0",
          "state": {
            "_dom_classes": [],
            "_model_module": "@jupyter-widgets/controls",
            "_model_module_version": "1.5.0",
            "_model_name": "HBoxModel",
            "_view_count": null,
            "_view_module": "@jupyter-widgets/controls",
            "_view_module_version": "1.5.0",
            "_view_name": "HBoxView",
            "box_style": "",
            "children": [
              "IPY_MODEL_13e8d07c7c8c432185f3e2cfb61050ad",
              "IPY_MODEL_79200595f46042578ae4aa54ebefcf33",
              "IPY_MODEL_ed3d1ee9a59d4fe88e1e0bf3569ec640"
            ],
            "layout": "IPY_MODEL_909e8ed25c5c4c85a4b86d1cc7963fe9"
          }
        },
        "13e8d07c7c8c432185f3e2cfb61050ad": {
          "model_module": "@jupyter-widgets/controls",
          "model_name": "HTMLModel",
          "model_module_version": "1.5.0",
          "state": {
            "_dom_classes": [],
            "_model_module": "@jupyter-widgets/controls",
            "_model_module_version": "1.5.0",
            "_model_name": "HTMLModel",
            "_view_count": null,
            "_view_module": "@jupyter-widgets/controls",
            "_view_module_version": "1.5.0",
            "_view_name": "HTMLView",
            "description": "",
            "description_tooltip": null,
            "layout": "IPY_MODEL_eafafaa0d27e494f92af020eb6b09547",
            "placeholder": "​",
            "style": "IPY_MODEL_da34342b4323451ebc9d8ebc86d58100",
            "value": "Downloading data: 100%"
          }
        },
        "79200595f46042578ae4aa54ebefcf33": {
          "model_module": "@jupyter-widgets/controls",
          "model_name": "FloatProgressModel",
          "model_module_version": "1.5.0",
          "state": {
            "_dom_classes": [],
            "_model_module": "@jupyter-widgets/controls",
            "_model_module_version": "1.5.0",
            "_model_name": "FloatProgressModel",
            "_view_count": null,
            "_view_module": "@jupyter-widgets/controls",
            "_view_module_version": "1.5.0",
            "_view_name": "ProgressView",
            "bar_style": "success",
            "description": "",
            "description_tooltip": null,
            "layout": "IPY_MODEL_dcacf05703cd4235b37dd3e5d4254f52",
            "max": 138595810,
            "min": 0,
            "orientation": "horizontal",
            "style": "IPY_MODEL_dad11c64cfdf409aaf99d25257234590",
            "value": 138595810
          }
        },
        "ed3d1ee9a59d4fe88e1e0bf3569ec640": {
          "model_module": "@jupyter-widgets/controls",
          "model_name": "HTMLModel",
          "model_module_version": "1.5.0",
          "state": {
            "_dom_classes": [],
            "_model_module": "@jupyter-widgets/controls",
            "_model_module_version": "1.5.0",
            "_model_name": "HTMLModel",
            "_view_count": null,
            "_view_module": "@jupyter-widgets/controls",
            "_view_module_version": "1.5.0",
            "_view_name": "HTMLView",
            "description": "",
            "description_tooltip": null,
            "layout": "IPY_MODEL_4229bf7617834639920a6459b048b6e3",
            "placeholder": "​",
            "style": "IPY_MODEL_9d656fec2e3d4f95a6b97be53841f8da",
            "value": " 139M/139M [00:04&lt;00:00, 34.3MB/s]"
          }
        },
        "909e8ed25c5c4c85a4b86d1cc7963fe9": {
          "model_module": "@jupyter-widgets/base",
          "model_name": "LayoutModel",
          "model_module_version": "1.2.0",
          "state": {
            "_model_module": "@jupyter-widgets/base",
            "_model_module_version": "1.2.0",
            "_model_name": "LayoutModel",
            "_view_count": null,
            "_view_module": "@jupyter-widgets/base",
            "_view_module_version": "1.2.0",
            "_view_name": "LayoutView",
            "align_content": null,
            "align_items": null,
            "align_self": null,
            "border": null,
            "bottom": null,
            "display": null,
            "flex": null,
            "flex_flow": null,
            "grid_area": null,
            "grid_auto_columns": null,
            "grid_auto_flow": null,
            "grid_auto_rows": null,
            "grid_column": null,
            "grid_gap": null,
            "grid_row": null,
            "grid_template_areas": null,
            "grid_template_columns": null,
            "grid_template_rows": null,
            "height": null,
            "justify_content": null,
            "justify_items": null,
            "left": null,
            "margin": null,
            "max_height": null,
            "max_width": null,
            "min_height": null,
            "min_width": null,
            "object_fit": null,
            "object_position": null,
            "order": null,
            "overflow": null,
            "overflow_x": null,
            "overflow_y": null,
            "padding": null,
            "right": null,
            "top": null,
            "visibility": null,
            "width": null
          }
        },
        "eafafaa0d27e494f92af020eb6b09547": {
          "model_module": "@jupyter-widgets/base",
          "model_name": "LayoutModel",
          "model_module_version": "1.2.0",
          "state": {
            "_model_module": "@jupyter-widgets/base",
            "_model_module_version": "1.2.0",
            "_model_name": "LayoutModel",
            "_view_count": null,
            "_view_module": "@jupyter-widgets/base",
            "_view_module_version": "1.2.0",
            "_view_name": "LayoutView",
            "align_content": null,
            "align_items": null,
            "align_self": null,
            "border": null,
            "bottom": null,
            "display": null,
            "flex": null,
            "flex_flow": null,
            "grid_area": null,
            "grid_auto_columns": null,
            "grid_auto_flow": null,
            "grid_auto_rows": null,
            "grid_column": null,
            "grid_gap": null,
            "grid_row": null,
            "grid_template_areas": null,
            "grid_template_columns": null,
            "grid_template_rows": null,
            "height": null,
            "justify_content": null,
            "justify_items": null,
            "left": null,
            "margin": null,
            "max_height": null,
            "max_width": null,
            "min_height": null,
            "min_width": null,
            "object_fit": null,
            "object_position": null,
            "order": null,
            "overflow": null,
            "overflow_x": null,
            "overflow_y": null,
            "padding": null,
            "right": null,
            "top": null,
            "visibility": null,
            "width": null
          }
        },
        "da34342b4323451ebc9d8ebc86d58100": {
          "model_module": "@jupyter-widgets/controls",
          "model_name": "DescriptionStyleModel",
          "model_module_version": "1.5.0",
          "state": {
            "_model_module": "@jupyter-widgets/controls",
            "_model_module_version": "1.5.0",
            "_model_name": "DescriptionStyleModel",
            "_view_count": null,
            "_view_module": "@jupyter-widgets/base",
            "_view_module_version": "1.2.0",
            "_view_name": "StyleView",
            "description_width": ""
          }
        },
        "dcacf05703cd4235b37dd3e5d4254f52": {
          "model_module": "@jupyter-widgets/base",
          "model_name": "LayoutModel",
          "model_module_version": "1.2.0",
          "state": {
            "_model_module": "@jupyter-widgets/base",
            "_model_module_version": "1.2.0",
            "_model_name": "LayoutModel",
            "_view_count": null,
            "_view_module": "@jupyter-widgets/base",
            "_view_module_version": "1.2.0",
            "_view_name": "LayoutView",
            "align_content": null,
            "align_items": null,
            "align_self": null,
            "border": null,
            "bottom": null,
            "display": null,
            "flex": null,
            "flex_flow": null,
            "grid_area": null,
            "grid_auto_columns": null,
            "grid_auto_flow": null,
            "grid_auto_rows": null,
            "grid_column": null,
            "grid_gap": null,
            "grid_row": null,
            "grid_template_areas": null,
            "grid_template_columns": null,
            "grid_template_rows": null,
            "height": null,
            "justify_content": null,
            "justify_items": null,
            "left": null,
            "margin": null,
            "max_height": null,
            "max_width": null,
            "min_height": null,
            "min_width": null,
            "object_fit": null,
            "object_position": null,
            "order": null,
            "overflow": null,
            "overflow_x": null,
            "overflow_y": null,
            "padding": null,
            "right": null,
            "top": null,
            "visibility": null,
            "width": null
          }
        },
        "dad11c64cfdf409aaf99d25257234590": {
          "model_module": "@jupyter-widgets/controls",
          "model_name": "ProgressStyleModel",
          "model_module_version": "1.5.0",
          "state": {
            "_model_module": "@jupyter-widgets/controls",
            "_model_module_version": "1.5.0",
            "_model_name": "ProgressStyleModel",
            "_view_count": null,
            "_view_module": "@jupyter-widgets/base",
            "_view_module_version": "1.2.0",
            "_view_name": "StyleView",
            "bar_color": null,
            "description_width": ""
          }
        },
        "4229bf7617834639920a6459b048b6e3": {
          "model_module": "@jupyter-widgets/base",
          "model_name": "LayoutModel",
          "model_module_version": "1.2.0",
          "state": {
            "_model_module": "@jupyter-widgets/base",
            "_model_module_version": "1.2.0",
            "_model_name": "LayoutModel",
            "_view_count": null,
            "_view_module": "@jupyter-widgets/base",
            "_view_module_version": "1.2.0",
            "_view_name": "LayoutView",
            "align_content": null,
            "align_items": null,
            "align_self": null,
            "border": null,
            "bottom": null,
            "display": null,
            "flex": null,
            "flex_flow": null,
            "grid_area": null,
            "grid_auto_columns": null,
            "grid_auto_flow": null,
            "grid_auto_rows": null,
            "grid_column": null,
            "grid_gap": null,
            "grid_row": null,
            "grid_template_areas": null,
            "grid_template_columns": null,
            "grid_template_rows": null,
            "height": null,
            "justify_content": null,
            "justify_items": null,
            "left": null,
            "margin": null,
            "max_height": null,
            "max_width": null,
            "min_height": null,
            "min_width": null,
            "object_fit": null,
            "object_position": null,
            "order": null,
            "overflow": null,
            "overflow_x": null,
            "overflow_y": null,
            "padding": null,
            "right": null,
            "top": null,
            "visibility": null,
            "width": null
          }
        },
        "9d656fec2e3d4f95a6b97be53841f8da": {
          "model_module": "@jupyter-widgets/controls",
          "model_name": "DescriptionStyleModel",
          "model_module_version": "1.5.0",
          "state": {
            "_model_module": "@jupyter-widgets/controls",
            "_model_module_version": "1.5.0",
            "_model_name": "DescriptionStyleModel",
            "_view_count": null,
            "_view_module": "@jupyter-widgets/base",
            "_view_module_version": "1.2.0",
            "_view_name": "StyleView",
            "description_width": ""
          }
        },
        "550e05bfbe424584859ae0a052c00569": {
          "model_module": "@jupyter-widgets/controls",
          "model_name": "HBoxModel",
          "model_module_version": "1.5.0",
          "state": {
            "_dom_classes": [],
            "_model_module": "@jupyter-widgets/controls",
            "_model_module_version": "1.5.0",
            "_model_name": "HBoxModel",
            "_view_count": null,
            "_view_module": "@jupyter-widgets/controls",
            "_view_module_version": "1.5.0",
            "_view_name": "HBoxView",
            "box_style": "",
            "children": [
              "IPY_MODEL_ead9349bd78e4a389c231bf469ef86eb",
              "IPY_MODEL_04b88fe4f8e343878bf195d0db1d780e",
              "IPY_MODEL_adec4a3ea1094e5081dfe62d839cf608"
            ],
            "layout": "IPY_MODEL_dc1ac850760a47fe9b68bc0730d39e6a"
          }
        },
        "ead9349bd78e4a389c231bf469ef86eb": {
          "model_module": "@jupyter-widgets/controls",
          "model_name": "HTMLModel",
          "model_module_version": "1.5.0",
          "state": {
            "_dom_classes": [],
            "_model_module": "@jupyter-widgets/controls",
            "_model_module_version": "1.5.0",
            "_model_name": "HTMLModel",
            "_view_count": null,
            "_view_module": "@jupyter-widgets/controls",
            "_view_module_version": "1.5.0",
            "_view_name": "HTMLView",
            "description": "",
            "description_tooltip": null,
            "layout": "IPY_MODEL_f6dd08606edf4ff28f8bd18ec83b2a5a",
            "placeholder": "​",
            "style": "IPY_MODEL_14d3b6550ddd4d38899c6e037118b30b",
            "value": "Generating train split: 100%"
          }
        },
        "04b88fe4f8e343878bf195d0db1d780e": {
          "model_module": "@jupyter-widgets/controls",
          "model_name": "FloatProgressModel",
          "model_module_version": "1.5.0",
          "state": {
            "_dom_classes": [],
            "_model_module": "@jupyter-widgets/controls",
            "_model_module_version": "1.5.0",
            "_model_name": "FloatProgressModel",
            "_view_count": null,
            "_view_module": "@jupyter-widgets/controls",
            "_view_module_version": "1.5.0",
            "_view_name": "ProgressView",
            "bar_style": "success",
            "description": "",
            "description_tooltip": null,
            "layout": "IPY_MODEL_7d84ebc3c06147fd94f2e34848a2dd2b",
            "max": 2749,
            "min": 0,
            "orientation": "horizontal",
            "style": "IPY_MODEL_034ad6e31cc740bf8263b50cd050da9b",
            "value": 2749
          }
        },
        "adec4a3ea1094e5081dfe62d839cf608": {
          "model_module": "@jupyter-widgets/controls",
          "model_name": "HTMLModel",
          "model_module_version": "1.5.0",
          "state": {
            "_dom_classes": [],
            "_model_module": "@jupyter-widgets/controls",
            "_model_module_version": "1.5.0",
            "_model_name": "HTMLModel",
            "_view_count": null,
            "_view_module": "@jupyter-widgets/controls",
            "_view_module_version": "1.5.0",
            "_view_name": "HTMLView",
            "description": "",
            "description_tooltip": null,
            "layout": "IPY_MODEL_96c9a4cac4804dc3ae5f55341404b7a4",
            "placeholder": "​",
            "style": "IPY_MODEL_5bd283d8804e49fc8d5803a4251c9ba9",
            "value": " 2749/2749 [00:01&lt;00:00, 1482.53 examples/s]"
          }
        },
        "dc1ac850760a47fe9b68bc0730d39e6a": {
          "model_module": "@jupyter-widgets/base",
          "model_name": "LayoutModel",
          "model_module_version": "1.2.0",
          "state": {
            "_model_module": "@jupyter-widgets/base",
            "_model_module_version": "1.2.0",
            "_model_name": "LayoutModel",
            "_view_count": null,
            "_view_module": "@jupyter-widgets/base",
            "_view_module_version": "1.2.0",
            "_view_name": "LayoutView",
            "align_content": null,
            "align_items": null,
            "align_self": null,
            "border": null,
            "bottom": null,
            "display": null,
            "flex": null,
            "flex_flow": null,
            "grid_area": null,
            "grid_auto_columns": null,
            "grid_auto_flow": null,
            "grid_auto_rows": null,
            "grid_column": null,
            "grid_gap": null,
            "grid_row": null,
            "grid_template_areas": null,
            "grid_template_columns": null,
            "grid_template_rows": null,
            "height": null,
            "justify_content": null,
            "justify_items": null,
            "left": null,
            "margin": null,
            "max_height": null,
            "max_width": null,
            "min_height": null,
            "min_width": null,
            "object_fit": null,
            "object_position": null,
            "order": null,
            "overflow": null,
            "overflow_x": null,
            "overflow_y": null,
            "padding": null,
            "right": null,
            "top": null,
            "visibility": null,
            "width": null
          }
        },
        "f6dd08606edf4ff28f8bd18ec83b2a5a": {
          "model_module": "@jupyter-widgets/base",
          "model_name": "LayoutModel",
          "model_module_version": "1.2.0",
          "state": {
            "_model_module": "@jupyter-widgets/base",
            "_model_module_version": "1.2.0",
            "_model_name": "LayoutModel",
            "_view_count": null,
            "_view_module": "@jupyter-widgets/base",
            "_view_module_version": "1.2.0",
            "_view_name": "LayoutView",
            "align_content": null,
            "align_items": null,
            "align_self": null,
            "border": null,
            "bottom": null,
            "display": null,
            "flex": null,
            "flex_flow": null,
            "grid_area": null,
            "grid_auto_columns": null,
            "grid_auto_flow": null,
            "grid_auto_rows": null,
            "grid_column": null,
            "grid_gap": null,
            "grid_row": null,
            "grid_template_areas": null,
            "grid_template_columns": null,
            "grid_template_rows": null,
            "height": null,
            "justify_content": null,
            "justify_items": null,
            "left": null,
            "margin": null,
            "max_height": null,
            "max_width": null,
            "min_height": null,
            "min_width": null,
            "object_fit": null,
            "object_position": null,
            "order": null,
            "overflow": null,
            "overflow_x": null,
            "overflow_y": null,
            "padding": null,
            "right": null,
            "top": null,
            "visibility": null,
            "width": null
          }
        },
        "14d3b6550ddd4d38899c6e037118b30b": {
          "model_module": "@jupyter-widgets/controls",
          "model_name": "DescriptionStyleModel",
          "model_module_version": "1.5.0",
          "state": {
            "_model_module": "@jupyter-widgets/controls",
            "_model_module_version": "1.5.0",
            "_model_name": "DescriptionStyleModel",
            "_view_count": null,
            "_view_module": "@jupyter-widgets/base",
            "_view_module_version": "1.2.0",
            "_view_name": "StyleView",
            "description_width": ""
          }
        },
        "7d84ebc3c06147fd94f2e34848a2dd2b": {
          "model_module": "@jupyter-widgets/base",
          "model_name": "LayoutModel",
          "model_module_version": "1.2.0",
          "state": {
            "_model_module": "@jupyter-widgets/base",
            "_model_module_version": "1.2.0",
            "_model_name": "LayoutModel",
            "_view_count": null,
            "_view_module": "@jupyter-widgets/base",
            "_view_module_version": "1.2.0",
            "_view_name": "LayoutView",
            "align_content": null,
            "align_items": null,
            "align_self": null,
            "border": null,
            "bottom": null,
            "display": null,
            "flex": null,
            "flex_flow": null,
            "grid_area": null,
            "grid_auto_columns": null,
            "grid_auto_flow": null,
            "grid_auto_rows": null,
            "grid_column": null,
            "grid_gap": null,
            "grid_row": null,
            "grid_template_areas": null,
            "grid_template_columns": null,
            "grid_template_rows": null,
            "height": null,
            "justify_content": null,
            "justify_items": null,
            "left": null,
            "margin": null,
            "max_height": null,
            "max_width": null,
            "min_height": null,
            "min_width": null,
            "object_fit": null,
            "object_position": null,
            "order": null,
            "overflow": null,
            "overflow_x": null,
            "overflow_y": null,
            "padding": null,
            "right": null,
            "top": null,
            "visibility": null,
            "width": null
          }
        },
        "034ad6e31cc740bf8263b50cd050da9b": {
          "model_module": "@jupyter-widgets/controls",
          "model_name": "ProgressStyleModel",
          "model_module_version": "1.5.0",
          "state": {
            "_model_module": "@jupyter-widgets/controls",
            "_model_module_version": "1.5.0",
            "_model_name": "ProgressStyleModel",
            "_view_count": null,
            "_view_module": "@jupyter-widgets/base",
            "_view_module_version": "1.2.0",
            "_view_name": "StyleView",
            "bar_color": null,
            "description_width": ""
          }
        },
        "96c9a4cac4804dc3ae5f55341404b7a4": {
          "model_module": "@jupyter-widgets/base",
          "model_name": "LayoutModel",
          "model_module_version": "1.2.0",
          "state": {
            "_model_module": "@jupyter-widgets/base",
            "_model_module_version": "1.2.0",
            "_model_name": "LayoutModel",
            "_view_count": null,
            "_view_module": "@jupyter-widgets/base",
            "_view_module_version": "1.2.0",
            "_view_name": "LayoutView",
            "align_content": null,
            "align_items": null,
            "align_self": null,
            "border": null,
            "bottom": null,
            "display": null,
            "flex": null,
            "flex_flow": null,
            "grid_area": null,
            "grid_auto_columns": null,
            "grid_auto_flow": null,
            "grid_auto_rows": null,
            "grid_column": null,
            "grid_gap": null,
            "grid_row": null,
            "grid_template_areas": null,
            "grid_template_columns": null,
            "grid_template_rows": null,
            "height": null,
            "justify_content": null,
            "justify_items": null,
            "left": null,
            "margin": null,
            "max_height": null,
            "max_width": null,
            "min_height": null,
            "min_width": null,
            "object_fit": null,
            "object_position": null,
            "order": null,
            "overflow": null,
            "overflow_x": null,
            "overflow_y": null,
            "padding": null,
            "right": null,
            "top": null,
            "visibility": null,
            "width": null
          }
        },
        "5bd283d8804e49fc8d5803a4251c9ba9": {
          "model_module": "@jupyter-widgets/controls",
          "model_name": "DescriptionStyleModel",
          "model_module_version": "1.5.0",
          "state": {
            "_model_module": "@jupyter-widgets/controls",
            "_model_module_version": "1.5.0",
            "_model_name": "DescriptionStyleModel",
            "_view_count": null,
            "_view_module": "@jupyter-widgets/base",
            "_view_module_version": "1.2.0",
            "_view_name": "StyleView",
            "description_width": ""
          }
        },
        "15d75d1d258040f099e6ba03d740c9cc": {
          "model_module": "@jupyter-widgets/controls",
          "model_name": "HBoxModel",
          "model_module_version": "1.5.0",
          "state": {
            "_dom_classes": [],
            "_model_module": "@jupyter-widgets/controls",
            "_model_module_version": "1.5.0",
            "_model_name": "HBoxModel",
            "_view_count": null,
            "_view_module": "@jupyter-widgets/controls",
            "_view_module_version": "1.5.0",
            "_view_name": "HBoxView",
            "box_style": "",
            "children": [
              "IPY_MODEL_f05ef2ec2da1456ba8f87b916acaf34a",
              "IPY_MODEL_8a56f39d92014f83aa738d4a5a48f820",
              "IPY_MODEL_e76af7ad8d544601b4428d08bac21fbe"
            ],
            "layout": "IPY_MODEL_9aa20c336c9845d1bceae4a747d3cb87"
          }
        },
        "f05ef2ec2da1456ba8f87b916acaf34a": {
          "model_module": "@jupyter-widgets/controls",
          "model_name": "HTMLModel",
          "model_module_version": "1.5.0",
          "state": {
            "_dom_classes": [],
            "_model_module": "@jupyter-widgets/controls",
            "_model_module_version": "1.5.0",
            "_model_name": "HTMLModel",
            "_view_count": null,
            "_view_module": "@jupyter-widgets/controls",
            "_view_module_version": "1.5.0",
            "_view_name": "HTMLView",
            "description": "",
            "description_tooltip": null,
            "layout": "IPY_MODEL_cf18b14768be4a54b3009d491414c299",
            "placeholder": "​",
            "style": "IPY_MODEL_e5ba13fe7d7b4be19fdfab33a1a165ad",
            "value": "Filter: 100%"
          }
        },
        "8a56f39d92014f83aa738d4a5a48f820": {
          "model_module": "@jupyter-widgets/controls",
          "model_name": "FloatProgressModel",
          "model_module_version": "1.5.0",
          "state": {
            "_dom_classes": [],
            "_model_module": "@jupyter-widgets/controls",
            "_model_module_version": "1.5.0",
            "_model_name": "FloatProgressModel",
            "_view_count": null,
            "_view_module": "@jupyter-widgets/controls",
            "_view_module_version": "1.5.0",
            "_view_name": "ProgressView",
            "bar_style": "success",
            "description": "",
            "description_tooltip": null,
            "layout": "IPY_MODEL_058867f4187647eab4c2471b4e1eb190",
            "max": 2749,
            "min": 0,
            "orientation": "horizontal",
            "style": "IPY_MODEL_e3d8c6c4c9b74046ad262c010eb10464",
            "value": 2749
          }
        },
        "e76af7ad8d544601b4428d08bac21fbe": {
          "model_module": "@jupyter-widgets/controls",
          "model_name": "HTMLModel",
          "model_module_version": "1.5.0",
          "state": {
            "_dom_classes": [],
            "_model_module": "@jupyter-widgets/controls",
            "_model_module_version": "1.5.0",
            "_model_name": "HTMLModel",
            "_view_count": null,
            "_view_module": "@jupyter-widgets/controls",
            "_view_module_version": "1.5.0",
            "_view_name": "HTMLView",
            "description": "",
            "description_tooltip": null,
            "layout": "IPY_MODEL_b92723bffb0c4f5caab3e2cfa1e5caa7",
            "placeholder": "​",
            "style": "IPY_MODEL_52e09274894d4352ad74ac47ad9f515e",
            "value": " 2749/2749 [00:10&lt;00:00, 296.55 examples/s]"
          }
        },
        "9aa20c336c9845d1bceae4a747d3cb87": {
          "model_module": "@jupyter-widgets/base",
          "model_name": "LayoutModel",
          "model_module_version": "1.2.0",
          "state": {
            "_model_module": "@jupyter-widgets/base",
            "_model_module_version": "1.2.0",
            "_model_name": "LayoutModel",
            "_view_count": null,
            "_view_module": "@jupyter-widgets/base",
            "_view_module_version": "1.2.0",
            "_view_name": "LayoutView",
            "align_content": null,
            "align_items": null,
            "align_self": null,
            "border": null,
            "bottom": null,
            "display": null,
            "flex": null,
            "flex_flow": null,
            "grid_area": null,
            "grid_auto_columns": null,
            "grid_auto_flow": null,
            "grid_auto_rows": null,
            "grid_column": null,
            "grid_gap": null,
            "grid_row": null,
            "grid_template_areas": null,
            "grid_template_columns": null,
            "grid_template_rows": null,
            "height": null,
            "justify_content": null,
            "justify_items": null,
            "left": null,
            "margin": null,
            "max_height": null,
            "max_width": null,
            "min_height": null,
            "min_width": null,
            "object_fit": null,
            "object_position": null,
            "order": null,
            "overflow": null,
            "overflow_x": null,
            "overflow_y": null,
            "padding": null,
            "right": null,
            "top": null,
            "visibility": null,
            "width": null
          }
        },
        "cf18b14768be4a54b3009d491414c299": {
          "model_module": "@jupyter-widgets/base",
          "model_name": "LayoutModel",
          "model_module_version": "1.2.0",
          "state": {
            "_model_module": "@jupyter-widgets/base",
            "_model_module_version": "1.2.0",
            "_model_name": "LayoutModel",
            "_view_count": null,
            "_view_module": "@jupyter-widgets/base",
            "_view_module_version": "1.2.0",
            "_view_name": "LayoutView",
            "align_content": null,
            "align_items": null,
            "align_self": null,
            "border": null,
            "bottom": null,
            "display": null,
            "flex": null,
            "flex_flow": null,
            "grid_area": null,
            "grid_auto_columns": null,
            "grid_auto_flow": null,
            "grid_auto_rows": null,
            "grid_column": null,
            "grid_gap": null,
            "grid_row": null,
            "grid_template_areas": null,
            "grid_template_columns": null,
            "grid_template_rows": null,
            "height": null,
            "justify_content": null,
            "justify_items": null,
            "left": null,
            "margin": null,
            "max_height": null,
            "max_width": null,
            "min_height": null,
            "min_width": null,
            "object_fit": null,
            "object_position": null,
            "order": null,
            "overflow": null,
            "overflow_x": null,
            "overflow_y": null,
            "padding": null,
            "right": null,
            "top": null,
            "visibility": null,
            "width": null
          }
        },
        "e5ba13fe7d7b4be19fdfab33a1a165ad": {
          "model_module": "@jupyter-widgets/controls",
          "model_name": "DescriptionStyleModel",
          "model_module_version": "1.5.0",
          "state": {
            "_model_module": "@jupyter-widgets/controls",
            "_model_module_version": "1.5.0",
            "_model_name": "DescriptionStyleModel",
            "_view_count": null,
            "_view_module": "@jupyter-widgets/base",
            "_view_module_version": "1.2.0",
            "_view_name": "StyleView",
            "description_width": ""
          }
        },
        "058867f4187647eab4c2471b4e1eb190": {
          "model_module": "@jupyter-widgets/base",
          "model_name": "LayoutModel",
          "model_module_version": "1.2.0",
          "state": {
            "_model_module": "@jupyter-widgets/base",
            "_model_module_version": "1.2.0",
            "_model_name": "LayoutModel",
            "_view_count": null,
            "_view_module": "@jupyter-widgets/base",
            "_view_module_version": "1.2.0",
            "_view_name": "LayoutView",
            "align_content": null,
            "align_items": null,
            "align_self": null,
            "border": null,
            "bottom": null,
            "display": null,
            "flex": null,
            "flex_flow": null,
            "grid_area": null,
            "grid_auto_columns": null,
            "grid_auto_flow": null,
            "grid_auto_rows": null,
            "grid_column": null,
            "grid_gap": null,
            "grid_row": null,
            "grid_template_areas": null,
            "grid_template_columns": null,
            "grid_template_rows": null,
            "height": null,
            "justify_content": null,
            "justify_items": null,
            "left": null,
            "margin": null,
            "max_height": null,
            "max_width": null,
            "min_height": null,
            "min_width": null,
            "object_fit": null,
            "object_position": null,
            "order": null,
            "overflow": null,
            "overflow_x": null,
            "overflow_y": null,
            "padding": null,
            "right": null,
            "top": null,
            "visibility": null,
            "width": null
          }
        },
        "e3d8c6c4c9b74046ad262c010eb10464": {
          "model_module": "@jupyter-widgets/controls",
          "model_name": "ProgressStyleModel",
          "model_module_version": "1.5.0",
          "state": {
            "_model_module": "@jupyter-widgets/controls",
            "_model_module_version": "1.5.0",
            "_model_name": "ProgressStyleModel",
            "_view_count": null,
            "_view_module": "@jupyter-widgets/base",
            "_view_module_version": "1.2.0",
            "_view_name": "StyleView",
            "bar_color": null,
            "description_width": ""
          }
        },
        "b92723bffb0c4f5caab3e2cfa1e5caa7": {
          "model_module": "@jupyter-widgets/base",
          "model_name": "LayoutModel",
          "model_module_version": "1.2.0",
          "state": {
            "_model_module": "@jupyter-widgets/base",
            "_model_module_version": "1.2.0",
            "_model_name": "LayoutModel",
            "_view_count": null,
            "_view_module": "@jupyter-widgets/base",
            "_view_module_version": "1.2.0",
            "_view_name": "LayoutView",
            "align_content": null,
            "align_items": null,
            "align_self": null,
            "border": null,
            "bottom": null,
            "display": null,
            "flex": null,
            "flex_flow": null,
            "grid_area": null,
            "grid_auto_columns": null,
            "grid_auto_flow": null,
            "grid_auto_rows": null,
            "grid_column": null,
            "grid_gap": null,
            "grid_row": null,
            "grid_template_areas": null,
            "grid_template_columns": null,
            "grid_template_rows": null,
            "height": null,
            "justify_content": null,
            "justify_items": null,
            "left": null,
            "margin": null,
            "max_height": null,
            "max_width": null,
            "min_height": null,
            "min_width": null,
            "object_fit": null,
            "object_position": null,
            "order": null,
            "overflow": null,
            "overflow_x": null,
            "overflow_y": null,
            "padding": null,
            "right": null,
            "top": null,
            "visibility": null,
            "width": null
          }
        },
        "52e09274894d4352ad74ac47ad9f515e": {
          "model_module": "@jupyter-widgets/controls",
          "model_name": "DescriptionStyleModel",
          "model_module_version": "1.5.0",
          "state": {
            "_model_module": "@jupyter-widgets/controls",
            "_model_module_version": "1.5.0",
            "_model_name": "DescriptionStyleModel",
            "_view_count": null,
            "_view_module": "@jupyter-widgets/base",
            "_view_module_version": "1.2.0",
            "_view_name": "StyleView",
            "description_width": ""
          }
        }
      }
    }
  },
  "cells": [
    {
      "cell_type": "markdown",
      "metadata": {
        "id": "view-in-github",
        "colab_type": "text"
      },
      "source": [
        "<a href=\"https://colab.research.google.com/github/shubhi/Algorithms/blob/master/MSAI_437_HW2_Autoencoders.ipynb\" target=\"_parent\"><img src=\"https://colab.research.google.com/assets/colab-badge.svg\" alt=\"Open In Colab\"/></a>"
      ]
    },
    {
      "cell_type": "markdown",
      "source": [
        "## **Packages**"
      ],
      "metadata": {
        "id": "71jy2jfNVXxX"
      }
    },
    {
      "cell_type": "code",
      "source": [
        "!pip install torchviz"
      ],
      "metadata": {
        "colab": {
          "base_uri": "https://localhost:8080/"
        },
        "id": "sG7rNZAtPwou",
        "outputId": "ae9ad48c-7d68-4141-af9d-cbf0a0a7a2e8"
      },
      "execution_count": null,
      "outputs": [
        {
          "output_type": "stream",
          "name": "stdout",
          "text": [
            "Collecting torchviz\n",
            "  Downloading torchviz-0.0.2.tar.gz (4.9 kB)\n",
            "  Preparing metadata (setup.py) ... \u001b[?25l\u001b[?25hdone\n",
            "Requirement already satisfied: torch in /usr/local/lib/python3.10/dist-packages (from torchviz) (2.1.0+cu121)\n",
            "Requirement already satisfied: graphviz in /usr/local/lib/python3.10/dist-packages (from torchviz) (0.20.1)\n",
            "Requirement already satisfied: filelock in /usr/local/lib/python3.10/dist-packages (from torch->torchviz) (3.13.1)\n",
            "Requirement already satisfied: typing-extensions in /usr/local/lib/python3.10/dist-packages (from torch->torchviz) (4.9.0)\n",
            "Requirement already satisfied: sympy in /usr/local/lib/python3.10/dist-packages (from torch->torchviz) (1.12)\n",
            "Requirement already satisfied: networkx in /usr/local/lib/python3.10/dist-packages (from torch->torchviz) (3.2.1)\n",
            "Requirement already satisfied: jinja2 in /usr/local/lib/python3.10/dist-packages (from torch->torchviz) (3.1.3)\n",
            "Requirement already satisfied: fsspec in /usr/local/lib/python3.10/dist-packages (from torch->torchviz) (2023.6.0)\n",
            "Requirement already satisfied: triton==2.1.0 in /usr/local/lib/python3.10/dist-packages (from torch->torchviz) (2.1.0)\n",
            "Requirement already satisfied: MarkupSafe>=2.0 in /usr/local/lib/python3.10/dist-packages (from jinja2->torch->torchviz) (2.1.5)\n",
            "Requirement already satisfied: mpmath>=0.19 in /usr/local/lib/python3.10/dist-packages (from sympy->torch->torchviz) (1.3.0)\n",
            "Building wheels for collected packages: torchviz\n",
            "  Building wheel for torchviz (setup.py) ... \u001b[?25l\u001b[?25hdone\n",
            "  Created wheel for torchviz: filename=torchviz-0.0.2-py3-none-any.whl size=4131 sha256=9939abbf777803cb018ac1ae814b2adf54127f8c41c977e4f14664848f8d8352\n",
            "  Stored in directory: /root/.cache/pip/wheels/4c/97/88/a02973217949e0db0c9f4346d154085f4725f99c4f15a87094\n",
            "Successfully built torchviz\n",
            "Installing collected packages: torchviz\n",
            "Successfully installed torchviz-0.0.2\n"
          ]
        }
      ]
    },
    {
      "cell_type": "code",
      "source": [
        "!pip install datasets"
      ],
      "metadata": {
        "colab": {
          "base_uri": "https://localhost:8080/"
        },
        "id": "1G7LtGOCsImz",
        "outputId": "c2513c6a-e722-4b9c-ff39-b1e493e7fe1b"
      },
      "execution_count": null,
      "outputs": [
        {
          "output_type": "stream",
          "name": "stdout",
          "text": [
            "Collecting datasets\n",
            "  Downloading datasets-2.17.1-py3-none-any.whl (536 kB)\n",
            "\u001b[2K     \u001b[90m━━━━━━━━━━━━━━━━━━━━━━━━━━━━━━━━━━━━━━━━\u001b[0m \u001b[32m536.7/536.7 kB\u001b[0m \u001b[31m7.1 MB/s\u001b[0m eta \u001b[36m0:00:00\u001b[0m\n",
            "\u001b[?25hRequirement already satisfied: filelock in /usr/local/lib/python3.10/dist-packages (from datasets) (3.13.1)\n",
            "Requirement already satisfied: numpy>=1.17 in /usr/local/lib/python3.10/dist-packages (from datasets) (1.25.2)\n",
            "Requirement already satisfied: pyarrow>=12.0.0 in /usr/local/lib/python3.10/dist-packages (from datasets) (14.0.2)\n",
            "Requirement already satisfied: pyarrow-hotfix in /usr/local/lib/python3.10/dist-packages (from datasets) (0.6)\n",
            "Collecting dill<0.3.9,>=0.3.0 (from datasets)\n",
            "  Downloading dill-0.3.8-py3-none-any.whl (116 kB)\n",
            "\u001b[2K     \u001b[90m━━━━━━━━━━━━━━━━━━━━━━━━━━━━━━━━━━━━━━━━\u001b[0m \u001b[32m116.3/116.3 kB\u001b[0m \u001b[31m13.9 MB/s\u001b[0m eta \u001b[36m0:00:00\u001b[0m\n",
            "\u001b[?25hRequirement already satisfied: pandas in /usr/local/lib/python3.10/dist-packages (from datasets) (1.5.3)\n",
            "Requirement already satisfied: requests>=2.19.0 in /usr/local/lib/python3.10/dist-packages (from datasets) (2.31.0)\n",
            "Requirement already satisfied: tqdm>=4.62.1 in /usr/local/lib/python3.10/dist-packages (from datasets) (4.66.2)\n",
            "Requirement already satisfied: xxhash in /usr/local/lib/python3.10/dist-packages (from datasets) (3.4.1)\n",
            "Collecting multiprocess (from datasets)\n",
            "  Downloading multiprocess-0.70.16-py310-none-any.whl (134 kB)\n",
            "\u001b[2K     \u001b[90m━━━━━━━━━━━━━━━━━━━━━━━━━━━━━━━━━━━━━━━━\u001b[0m \u001b[32m134.8/134.8 kB\u001b[0m \u001b[31m8.9 MB/s\u001b[0m eta \u001b[36m0:00:00\u001b[0m\n",
            "\u001b[?25hRequirement already satisfied: fsspec[http]<=2023.10.0,>=2023.1.0 in /usr/local/lib/python3.10/dist-packages (from datasets) (2023.6.0)\n",
            "Requirement already satisfied: aiohttp in /usr/local/lib/python3.10/dist-packages (from datasets) (3.9.3)\n",
            "Requirement already satisfied: huggingface-hub>=0.19.4 in /usr/local/lib/python3.10/dist-packages (from datasets) (0.20.3)\n",
            "Requirement already satisfied: packaging in /usr/local/lib/python3.10/dist-packages (from datasets) (23.2)\n",
            "Requirement already satisfied: pyyaml>=5.1 in /usr/local/lib/python3.10/dist-packages (from datasets) (6.0.1)\n",
            "Requirement already satisfied: aiosignal>=1.1.2 in /usr/local/lib/python3.10/dist-packages (from aiohttp->datasets) (1.3.1)\n",
            "Requirement already satisfied: attrs>=17.3.0 in /usr/local/lib/python3.10/dist-packages (from aiohttp->datasets) (23.2.0)\n",
            "Requirement already satisfied: frozenlist>=1.1.1 in /usr/local/lib/python3.10/dist-packages (from aiohttp->datasets) (1.4.1)\n",
            "Requirement already satisfied: multidict<7.0,>=4.5 in /usr/local/lib/python3.10/dist-packages (from aiohttp->datasets) (6.0.5)\n",
            "Requirement already satisfied: yarl<2.0,>=1.0 in /usr/local/lib/python3.10/dist-packages (from aiohttp->datasets) (1.9.4)\n",
            "Requirement already satisfied: async-timeout<5.0,>=4.0 in /usr/local/lib/python3.10/dist-packages (from aiohttp->datasets) (4.0.3)\n",
            "Requirement already satisfied: typing-extensions>=3.7.4.3 in /usr/local/lib/python3.10/dist-packages (from huggingface-hub>=0.19.4->datasets) (4.9.0)\n",
            "Requirement already satisfied: charset-normalizer<4,>=2 in /usr/local/lib/python3.10/dist-packages (from requests>=2.19.0->datasets) (3.3.2)\n",
            "Requirement already satisfied: idna<4,>=2.5 in /usr/local/lib/python3.10/dist-packages (from requests>=2.19.0->datasets) (3.6)\n",
            "Requirement already satisfied: urllib3<3,>=1.21.1 in /usr/local/lib/python3.10/dist-packages (from requests>=2.19.0->datasets) (2.0.7)\n",
            "Requirement already satisfied: certifi>=2017.4.17 in /usr/local/lib/python3.10/dist-packages (from requests>=2.19.0->datasets) (2024.2.2)\n",
            "Requirement already satisfied: python-dateutil>=2.8.1 in /usr/local/lib/python3.10/dist-packages (from pandas->datasets) (2.8.2)\n",
            "Requirement already satisfied: pytz>=2020.1 in /usr/local/lib/python3.10/dist-packages (from pandas->datasets) (2023.4)\n",
            "Requirement already satisfied: six>=1.5 in /usr/local/lib/python3.10/dist-packages (from python-dateutil>=2.8.1->pandas->datasets) (1.16.0)\n",
            "Installing collected packages: dill, multiprocess, datasets\n",
            "Successfully installed datasets-2.17.1 dill-0.3.8 multiprocess-0.70.16\n"
          ]
        }
      ]
    },
    {
      "cell_type": "code",
      "source": [
        "!apt-get install git"
      ],
      "metadata": {
        "colab": {
          "base_uri": "https://localhost:8080/"
        },
        "id": "R3chAEzak58x",
        "outputId": "9bca5f10-f411-4ccf-f9a3-94318be2989a"
      },
      "execution_count": null,
      "outputs": [
        {
          "output_type": "stream",
          "name": "stdout",
          "text": [
            "Reading package lists... Done\n",
            "Building dependency tree... Done\n",
            "Reading state information... Done\n",
            "git is already the newest version (1:2.34.1-1ubuntu1.10).\n",
            "0 upgraded, 0 newly installed, 0 to remove and 35 not upgraded.\n"
          ]
        }
      ]
    },
    {
      "cell_type": "markdown",
      "source": [
        "## **Data Processing**\n",
        "\n",
        "Dataset: *HuggingFace - Emoji Dataset*\n",
        "\n",
        "Link: [https://huggingface.co/datasets/valhalla/emoji-dataset](https://huggingface.co/datasets/valhalla/emoji-dataset)\n",
        "\n"
      ],
      "metadata": {
        "id": "5uqSu-zi0TmL"
      }
    },
    {
      "cell_type": "markdown",
      "source": [
        "### **Load Data from HuggingFace**"
      ],
      "metadata": {
        "id": "hczQLpmp0xxB"
      }
    },
    {
      "cell_type": "code",
      "source": [
        "from datasets import load_dataset_builder\n",
        "ds_builder = load_dataset_builder(\"valhalla/emoji-dataset\")"
      ],
      "metadata": {
        "id": "0SjA7POMtrRV",
        "colab": {
          "base_uri": "https://localhost:8080/",
          "height": 176,
          "referenced_widgets": [
            "fd9a5786a2df48a0bb0edb425e70a876",
            "4928d89d648843bdbd72d4c0bfb72210",
            "8d923dc5a5ef48a08660273f0651e8b5",
            "af906c63e7bf491784d175d1d4785269",
            "2bf3ac9e0f9f4477ac1f394aa71e66bc",
            "f8d8bc5542e04fe08a846e3992b3e746",
            "0a2bcde91de64b8099b0a7389c4d2ab8",
            "c613b012a4a5488fa8e86be955c47648",
            "61839a43d80b4eb3948c6ac2056d199f",
            "dc121dc546274afba502bf989fe753d5",
            "661a48d5d2524009a15ce1b6f3844679"
          ]
        },
        "outputId": "b2e55d99-5ec4-4545-b30d-a974bfe3adf9"
      },
      "execution_count": null,
      "outputs": [
        {
          "output_type": "stream",
          "name": "stderr",
          "text": [
            "/usr/local/lib/python3.10/dist-packages/huggingface_hub/utils/_token.py:88: UserWarning: \n",
            "The secret `HF_TOKEN` does not exist in your Colab secrets.\n",
            "To authenticate with the Hugging Face Hub, create a token in your settings tab (https://huggingface.co/settings/tokens), set it as secret in your Google Colab and restart your session.\n",
            "You will be able to reuse this secret in all of your notebooks.\n",
            "Please note that authentication is recommended but still optional to access public models or datasets.\n",
            "  warnings.warn(\n"
          ]
        },
        {
          "output_type": "display_data",
          "data": {
            "text/plain": [
              "Downloading metadata:   0%|          | 0.00/720 [00:00<?, ?B/s]"
            ],
            "application/vnd.jupyter.widget-view+json": {
              "version_major": 2,
              "version_minor": 0,
              "model_id": "fd9a5786a2df48a0bb0edb425e70a876"
            }
          },
          "metadata": {}
        }
      ]
    },
    {
      "cell_type": "code",
      "source": [
        "ds_builder.info.description\n",
        "ds_builder.info.features"
      ],
      "metadata": {
        "colab": {
          "base_uri": "https://localhost:8080/"
        },
        "id": "dW6Bm6iHt22C",
        "outputId": "30fb2158-a67f-4dbd-db03-c61bc41e0563"
      },
      "execution_count": null,
      "outputs": [
        {
          "output_type": "execute_result",
          "data": {
            "text/plain": [
              "{'image': Image(decode=True, id=None), 'text': Value(dtype='string', id=None)}"
            ]
          },
          "metadata": {},
          "execution_count": 5
        }
      ]
    },
    {
      "cell_type": "code",
      "source": [
        "from datasets import get_dataset_split_names\n",
        "get_dataset_split_names(\"valhalla/emoji-dataset\")"
      ],
      "metadata": {
        "colab": {
          "base_uri": "https://localhost:8080/"
        },
        "id": "CsmaIa4bsx7O",
        "outputId": "acb33997-f00e-4cb8-e3e7-b64cc58b8cba"
      },
      "execution_count": null,
      "outputs": [
        {
          "output_type": "execute_result",
          "data": {
            "text/plain": [
              "['train']"
            ]
          },
          "metadata": {},
          "execution_count": 6
        }
      ]
    },
    {
      "cell_type": "code",
      "source": [
        "from datasets import load_dataset\n",
        "\n",
        "dataset = load_dataset(\"valhalla/emoji-dataset\")"
      ],
      "metadata": {
        "id": "fpoO8wa0sN3L",
        "colab": {
          "base_uri": "https://localhost:8080/",
          "height": 81,
          "referenced_widgets": [
            "a13806dcc2c946b2ac9787fe5c65dbe9",
            "13e8d07c7c8c432185f3e2cfb61050ad",
            "79200595f46042578ae4aa54ebefcf33",
            "ed3d1ee9a59d4fe88e1e0bf3569ec640",
            "909e8ed25c5c4c85a4b86d1cc7963fe9",
            "eafafaa0d27e494f92af020eb6b09547",
            "da34342b4323451ebc9d8ebc86d58100",
            "dcacf05703cd4235b37dd3e5d4254f52",
            "dad11c64cfdf409aaf99d25257234590",
            "4229bf7617834639920a6459b048b6e3",
            "9d656fec2e3d4f95a6b97be53841f8da",
            "550e05bfbe424584859ae0a052c00569",
            "ead9349bd78e4a389c231bf469ef86eb",
            "04b88fe4f8e343878bf195d0db1d780e",
            "adec4a3ea1094e5081dfe62d839cf608",
            "dc1ac850760a47fe9b68bc0730d39e6a",
            "f6dd08606edf4ff28f8bd18ec83b2a5a",
            "14d3b6550ddd4d38899c6e037118b30b",
            "7d84ebc3c06147fd94f2e34848a2dd2b",
            "034ad6e31cc740bf8263b50cd050da9b",
            "96c9a4cac4804dc3ae5f55341404b7a4",
            "5bd283d8804e49fc8d5803a4251c9ba9"
          ]
        },
        "outputId": "8fdb8c6e-8674-4877-817a-51427ad81ea6"
      },
      "execution_count": null,
      "outputs": [
        {
          "output_type": "display_data",
          "data": {
            "text/plain": [
              "Downloading data:   0%|          | 0.00/139M [00:00<?, ?B/s]"
            ],
            "application/vnd.jupyter.widget-view+json": {
              "version_major": 2,
              "version_minor": 0,
              "model_id": "a13806dcc2c946b2ac9787fe5c65dbe9"
            }
          },
          "metadata": {}
        },
        {
          "output_type": "display_data",
          "data": {
            "text/plain": [
              "Generating train split:   0%|          | 0/2749 [00:00<?, ? examples/s]"
            ],
            "application/vnd.jupyter.widget-view+json": {
              "version_major": 2,
              "version_minor": 0,
              "model_id": "550e05bfbe424584859ae0a052c00569"
            }
          },
          "metadata": {}
        }
      ]
    },
    {
      "cell_type": "code",
      "source": [
        "dataset['train'][0]"
      ],
      "metadata": {
        "colab": {
          "base_uri": "https://localhost:8080/"
        },
        "id": "lWg9iqg3ssAS",
        "outputId": "25f146c0-5378-438e-af94-4c04ee10b21b"
      },
      "execution_count": null,
      "outputs": [
        {
          "output_type": "execute_result",
          "data": {
            "text/plain": [
              "{'image': <PIL.PngImagePlugin.PngImageFile image mode=RGB size=256x256>,\n",
              " 'text': 'grinning face'}"
            ]
          },
          "metadata": {},
          "execution_count": 8
        }
      ]
    },
    {
      "cell_type": "markdown",
      "source": [
        "### **Create subset of data based on categories with expressions/facial features**"
      ],
      "metadata": {
        "id": "g3HF1bWLBAJ-"
      }
    },
    {
      "cell_type": "code",
      "source": [
        "expression_categories = [\"face\", \"vampire\", \"elf\", \"mage\", \"hero\", \"villain\", \"evil monkey\", \"zombie\", \"haircut\", \"juggling\"]\n",
        "\n",
        "subset = dataset['train'].filter(lambda example: any(category in example['text'] for category in expression_categories))"
      ],
      "metadata": {
        "colab": {
          "base_uri": "https://localhost:8080/",
          "referenced_widgets": [
            "15d75d1d258040f099e6ba03d740c9cc",
            "f05ef2ec2da1456ba8f87b916acaf34a",
            "8a56f39d92014f83aa738d4a5a48f820",
            "e76af7ad8d544601b4428d08bac21fbe",
            "9aa20c336c9845d1bceae4a747d3cb87",
            "cf18b14768be4a54b3009d491414c299",
            "e5ba13fe7d7b4be19fdfab33a1a165ad",
            "058867f4187647eab4c2471b4e1eb190",
            "e3d8c6c4c9b74046ad262c010eb10464",
            "b92723bffb0c4f5caab3e2cfa1e5caa7",
            "52e09274894d4352ad74ac47ad9f515e"
          ],
          "height": 49
        },
        "id": "RST7uVYwCLtg",
        "outputId": "d4fc64c2-d93c-41de-d641-7ffd0b60b69c"
      },
      "execution_count": null,
      "outputs": [
        {
          "output_type": "display_data",
          "data": {
            "text/plain": [
              "Filter:   0%|          | 0/2749 [00:00<?, ? examples/s]"
            ],
            "application/vnd.jupyter.widget-view+json": {
              "version_major": 2,
              "version_minor": 0,
              "model_id": "15d75d1d258040f099e6ba03d740c9cc"
            }
          },
          "metadata": {}
        }
      ]
    },
    {
      "cell_type": "code",
      "source": [
        "import io\n",
        "from IPython.display import display\n",
        "print(\"Number of images related to expression categories:\", len(subset))\n",
        "print(\"Subset example:\", subset[25])\n",
        "image = subset[25]['image']\n",
        "display(image)"
      ],
      "metadata": {
        "colab": {
          "base_uri": "https://localhost:8080/",
          "height": 329
        },
        "id": "pFtuQkgtA6e2",
        "outputId": "fc3fd761-2c5f-4d30-aa88-8b463e6a1793"
      },
      "execution_count": null,
      "outputs": [
        {
          "output_type": "stream",
          "name": "stdout",
          "text": [
            "Number of images related to expression categories: 342\n",
            "Subset example: {'image': <PIL.PngImagePlugin.PngImageFile image mode=RGB size=256x256 at 0x7F0D884CC580>, 'text': 'cat face with tears of joy'}\n"
          ]
        },
        {
          "output_type": "display_data",
          "data": {
            "text/plain": [
              "<PIL.PngImagePlugin.PngImageFile image mode=RGB size=256x256>"
            ],
            "image/png": "[encoded data removed]"
          },
          "metadata": {}
        }
      ]
    },
    {
      "cell_type": "markdown",
      "source": [
        "### **Add class label \"class_fiction\"**"
      ],
      "metadata": {
        "id": "CMDFGRghIPe2"
      }
    },
    {
      "cell_type": "code",
      "source": [
        "def assign_class_label(example):\n",
        "    fictional_descriptions = [\"vampire\", \"elf\", \"mage\", \"hero\", \"villain\", \"zombie\"]\n",
        "    if any(description in example['text'] for description in fictional_descriptions):\n",
        "        return {'text': example['text'], 'class_fiction': 'fictional', 'image': example['image']}\n",
        "    else:\n",
        "        return {'text': example['text'], 'class_fiction': 'non-fictional', 'image': example['image']}"
      ],
      "metadata": {
        "id": "OMHyYZY-IUJp"
      },
      "execution_count": null,
      "outputs": []
    },
    {
      "cell_type": "code",
      "source": [
        "labeled_subset = [assign_class_label(example) for example in subset]"
      ],
      "metadata": {
        "id": "2WUpaeGgIVD6"
      },
      "execution_count": null,
      "outputs": []
    },
    {
      "cell_type": "code",
      "source": [
        "print(\"Subset example:\", labeled_subset[25])\n",
        "print(\"Subset example:\", labeled_subset[100])"
      ],
      "metadata": {
        "colab": {
          "base_uri": "https://localhost:8080/"
        },
        "id": "LuIiPRu5IiCn",
        "outputId": "e4db7d25-c421-488b-ffd3-64cd47ed23c1"
      },
      "execution_count": null,
      "outputs": [
        {
          "output_type": "stream",
          "name": "stdout",
          "text": [
            "Subset example: {'text': 'cat face with tears of joy', 'class_fiction': 'non-fictional', 'image': <PIL.PngImagePlugin.PngImageFile image mode=RGB size=256x256 at 0x7F0D884CFB80>}\n",
            "Subset example: {'text': 'man elf dark skin tone', 'class_fiction': 'fictional', 'image': <PIL.PngImagePlugin.PngImageFile image mode=RGB size=256x256 at 0x7F0D884CF640>}\n"
          ]
        }
      ]
    },
    {
      "cell_type": "markdown",
      "source": [
        "### **Set random seed at 42**"
      ],
      "metadata": {
        "id": "FH2MEEzeM1rh"
      }
    },
    {
      "cell_type": "code",
      "source": [
        "import random\n",
        "import numpy as np\n",
        "import torch\n",
        "\n",
        "# Set random seed for reproducibility\n",
        "random_seed = 42\n",
        "random.seed(random_seed)\n",
        "np.random.seed(random_seed)\n",
        "torch.manual_seed(random_seed)"
      ],
      "metadata": {
        "colab": {
          "base_uri": "https://localhost:8080/"
        },
        "id": "Pjs5Mq14Mxc5",
        "outputId": "0257a5d9-50c2-4ab8-fe75-f0261fcb3fdd"
      },
      "execution_count": null,
      "outputs": [
        {
          "output_type": "execute_result",
          "data": {
            "text/plain": [
              "<torch._C.Generator at 0x7f0d7f90ed70>"
            ]
          },
          "metadata": {},
          "execution_count": 14
        }
      ]
    },
    {
      "cell_type": "markdown",
      "source": [
        "### **Split Data 60/20/20**"
      ],
      "metadata": {
        "id": "OBQP8y1MFpZp"
      }
    },
    {
      "cell_type": "code",
      "source": [
        "from torch.utils.data import random_split"
      ],
      "metadata": {
        "id": "M6XC2xXcFy6j"
      },
      "execution_count": null,
      "outputs": []
    },
    {
      "cell_type": "code",
      "source": [
        "total_size = len(subset)\n",
        "train_size = int(0.6 * total_size)\n",
        "val_size = int(0.2 * total_size)\n",
        "test_size = total_size - train_size - val_size"
      ],
      "metadata": {
        "id": "Q0cd71ciF3cw"
      },
      "execution_count": null,
      "outputs": []
    },
    {
      "cell_type": "code",
      "source": [
        "train, val, test = random_split(labeled_subset, [train_size, val_size, test_size])"
      ],
      "metadata": {
        "id": "0bgPAvjoGh_g"
      },
      "execution_count": null,
      "outputs": []
    },
    {
      "cell_type": "code",
      "source": [
        "print(\"Split Size:\\n\")\n",
        "print(\"Train dataset size:\", len(train))\n",
        "print(\"Validation dataset size:\", len(val))\n",
        "print(\"Test dataset size:\", len(test))"
      ],
      "metadata": {
        "colab": {
          "base_uri": "https://localhost:8080/"
        },
        "id": "eubsLhPlGnvS",
        "outputId": "568d006b-d100-4be1-9765-cdd18e165b74"
      },
      "execution_count": null,
      "outputs": [
        {
          "output_type": "stream",
          "name": "stdout",
          "text": [
            "Split Size:\n",
            "\n",
            "Train dataset size: 205\n",
            "Validation dataset size: 68\n",
            "Test dataset size: 69\n"
          ]
        }
      ]
    },
    {
      "cell_type": "markdown",
      "source": [
        "### **Augment to 600/200/200**"
      ],
      "metadata": {
        "id": "mks4usdYJVnd"
      }
    },
    {
      "cell_type": "code",
      "source": [
        "from torch.utils.data import DataLoader\n",
        "from torchvision import transforms"
      ],
      "metadata": {
        "id": "Kb99zOjgJaKs"
      },
      "execution_count": null,
      "outputs": []
    },
    {
      "cell_type": "code",
      "source": [
        "augmentation_transforms = transforms.Compose([\n",
        "    transforms.RandomRotation(degrees=10),  # Random rotation up to 10 degrees\n",
        "    transforms.RandomHorizontalFlip(p=0.5),  # Random horizontal flip with a probability of 0.5\n",
        "    transforms.RandomVerticalFlip(p=0.5),  # Random vertical flip with a probability of 0.5\n",
        "    transforms.ColorJitter(brightness=0.2, contrast=0.2, saturation=0.2, hue=0.1),  # Adjust brightness, contrast, saturation, and hue\n",
        "    transforms.RandomResizedCrop(size=(64, 64), scale=(0.8, 1.0)),  # Random resized crop\n",
        "    transforms.RandomApply([transforms.RandomAffine(degrees=5, translate=(0.1, 0.1))], p=0.5),  # Random affine transformation\n",
        "    transforms.RandomApply([transforms.GaussianBlur(kernel_size=3)], p=0.1),  # Random Gaussian blur\n",
        "])"
      ],
      "metadata": {
        "id": "leYRKmPVKNjh"
      },
      "execution_count": null,
      "outputs": []
    },
    {
      "cell_type": "code",
      "source": [
        "def augment_dataset(dataset, target_size):\n",
        "    augmented_dataset = []\n",
        "    while len(augmented_dataset) < target_size:\n",
        "        for example in dataset:\n",
        "            augmented_image = augmentation_transforms(example['image'])\n",
        "            augmented_example = {'text': example['text'], 'class_fiction': example['class_fiction'], 'image': augmented_image}\n",
        "            augmented_dataset.append(augmented_example)\n",
        "            if len(augmented_dataset) >= target_size:\n",
        "                break\n",
        "    return augmented_dataset"
      ],
      "metadata": {
        "id": "2RVXhXkxKSEB"
      },
      "execution_count": null,
      "outputs": []
    },
    {
      "cell_type": "code",
      "source": [
        "# Augment the train, validation, and test sets\n",
        "train_aug = augment_dataset(train, 600)\n",
        "val_aug = augment_dataset(val, 200)\n",
        "test_aug = augment_dataset(test, 200)"
      ],
      "metadata": {
        "id": "FoqY9ndNKj5T"
      },
      "execution_count": null,
      "outputs": []
    },
    {
      "cell_type": "code",
      "source": [
        "print(\"Augmented train dataset size:\", len(train_aug))\n",
        "print(\"Augmented validation dataset size:\", len(val_aug))\n",
        "print(\"Augmented test dataset size:\", len(test_aug))"
      ],
      "metadata": {
        "colab": {
          "base_uri": "https://localhost:8080/"
        },
        "id": "FYPpLNGzK0B4",
        "outputId": "33db724b-bf43-4c10-eb09-26cb45dff89f"
      },
      "execution_count": null,
      "outputs": [
        {
          "output_type": "stream",
          "name": "stdout",
          "text": [
            "Augmented train dataset size: 600\n",
            "Augmented validation dataset size: 200\n",
            "Augmented test dataset size: 200\n"
          ]
        }
      ]
    },
    {
      "cell_type": "markdown",
      "source": [
        "### **Resize to 64x64**"
      ],
      "metadata": {
        "id": "P6pAWj1wLyDo"
      }
    },
    {
      "cell_type": "code",
      "source": [
        "resize_transform = transforms.Resize((64, 64))"
      ],
      "metadata": {
        "id": "afT8ZXsmL0xg"
      },
      "execution_count": null,
      "outputs": []
    },
    {
      "cell_type": "code",
      "source": [
        "def resize_dataset(dataset):\n",
        "    resized_dataset = []\n",
        "    for example in dataset:\n",
        "        resized_image = resize_transform(example['image'])\n",
        "        resized_example = {'text': example['text'], 'class_fiction': example['class_fiction'], 'image': resized_image}\n",
        "        resized_dataset.append(resized_example)\n",
        "    return resized_dataset"
      ],
      "metadata": {
        "id": "LUCgHFQlL3Cx"
      },
      "execution_count": null,
      "outputs": []
    },
    {
      "cell_type": "code",
      "source": [
        "train_aug_resized = resize_dataset(train_aug)\n",
        "val_aug_resized = resize_dataset(val_aug)\n",
        "test_aug_resized = resize_dataset(test_aug)"
      ],
      "metadata": {
        "id": "QIha5V0gL81s"
      },
      "execution_count": null,
      "outputs": []
    },
    {
      "cell_type": "markdown",
      "source": [
        "## **End of data processing - final datasets**"
      ],
      "metadata": {
        "id": "eJHxeVKXMN8p"
      }
    },
    {
      "cell_type": "code",
      "source": [
        "train_set = train_aug_resized\n",
        "val_set = val_aug_resized\n",
        "test_set = test_aug_resized"
      ],
      "metadata": {
        "id": "1rbHpvBsMRNM"
      },
      "execution_count": null,
      "outputs": []
    },
    {
      "cell_type": "markdown",
      "source": [
        "## **Autoencoder - Model and Training**"
      ],
      "metadata": {
        "id": "aafp6L62U-Jf"
      }
    },
    {
      "cell_type": "code",
      "source": [
        "import torch\n",
        "import torch.nn as nn\n",
        "import torch.optim as optim\n",
        "\n",
        "# class Autoencoder(nn.Module):\n",
        "#     def __init__(self):\n",
        "#         super(Autoencoder, self).__init__()\n",
        "#         # Encoder layers\n",
        "#         self.encoder = nn.Sequential(\n",
        "#             nn.Conv2d(3, 16, kernel_size=3, stride=2, padding=1),\n",
        "#             nn.ReLU(),\n",
        "#             nn.Conv2d(16, 32, kernel_size=3, stride=2, padding=1),\n",
        "#             nn.ReLU(),\n",
        "#             nn.Conv2d(32, 64, kernel_size=3, stride=2, padding=1),\n",
        "#             nn.ReLU(),\n",
        "#             nn.Conv2d(64, 128, kernel_size=3, stride=2, padding=1),\n",
        "#             nn.ReLU(),\n",
        "#             nn.Conv2d(128, 256, kernel_size=3, stride=2, padding=1),\n",
        "#             nn.ReLU(),\n",
        "#         )\n",
        "#         # Decoder layers\n",
        "#         self.decoder = nn.Sequential(\n",
        "#             nn.ConvTranspose2d(256, 128, kernel_size=3, stride=2, padding=1, output_padding=1),\n",
        "#             nn.ReLU(),\n",
        "#             nn.ConvTranspose2d(128, 64, kernel_size=3, stride=2, padding=1, output_padding=1),\n",
        "#             nn.ReLU(),\n",
        "#             nn.ConvTranspose2d(64, 32, kernel_size=3, stride=2, padding=1, output_padding=1),\n",
        "#             nn.ReLU(),\n",
        "#             nn.ConvTranspose2d(32, 16, kernel_size=3, stride=2, padding=1, output_padding=1),\n",
        "#             nn.ReLU(),\n",
        "#             nn.ConvTranspose2d(16, 3, kernel_size=3, stride=2, padding=1, output_padding=1),\n",
        "#             nn.Sigmoid(),\n",
        "#         )\n",
        "\n",
        "#     def forward(self, x):\n",
        "#         x = self.encoder(x)\n",
        "#         x = self.decoder(x)\n",
        "#         return x\n",
        "\n",
        "class Autoencoder_32(nn.Module):\n",
        "    def __init__(self):\n",
        "        super(Autoencoder_32, self).__init__()\n",
        "\n",
        "        # Encoder layers\n",
        "        self.encoder = nn.Sequential(\n",
        "            nn.Conv2d(3, 16, kernel_size=3, stride=2, padding=1),\n",
        "            nn.ReLU(),\n",
        "            nn.Conv2d(16, 32, kernel_size=3, stride=2, padding=1),\n",
        "            nn.ReLU(),\n",
        "        )\n",
        "        # Decoder layers\n",
        "        self.decoder = nn.Sequential(\n",
        "            nn.ConvTranspose2d(32, 16, kernel_size=3, stride=2, padding=1, output_padding=1),\n",
        "            nn.ReLU(),\n",
        "            nn.ConvTranspose2d(16, 3, kernel_size=3, stride=2, padding=1, output_padding=1),\n",
        "            nn.Sigmoid(),\n",
        "        )\n",
        "\n",
        "    def forward(self, x):\n",
        "        x = self.encoder(x)\n",
        "        x = self.decoder(x)\n",
        "        return x\n",
        "\n",
        "class Autoencoder_64(nn.Module):\n",
        "    def __init__(self):\n",
        "        super(Autoencoder_64, self).__init__()\n",
        "\n",
        "        # Encoder layers\n",
        "        self.encoder = nn.Sequential(\n",
        "            nn.Conv2d(3, 16, kernel_size=3, stride=2, padding=1),\n",
        "            nn.ReLU(),\n",
        "            nn.Conv2d(16, 32, kernel_size=3, stride=2, padding=1),\n",
        "            nn.ReLU(),\n",
        "            nn.Conv2d(32, 64, kernel_size=3, stride=2, padding=1),\n",
        "            nn.ReLU(),\n",
        "        )\n",
        "        # Decoder layers\n",
        "        self.decoder = nn.Sequential(\n",
        "            nn.ConvTranspose2d(64, 32, kernel_size=3, stride=2, padding=1, output_padding=1),\n",
        "            nn.ReLU(),\n",
        "            nn.ConvTranspose2d(32, 16, kernel_size=3, stride=2, padding=1, output_padding=1),\n",
        "            nn.ReLU(),\n",
        "            nn.ConvTranspose2d(16, 3, kernel_size=3, stride=2, padding=1, output_padding=1),\n",
        "            nn.Sigmoid(),\n",
        "        )\n",
        "\n",
        "    def forward(self, x):\n",
        "        x = self.encoder(x)\n",
        "        x = self.decoder(x)\n",
        "        return x\n",
        "\n",
        "class Autoencoder_128(nn.Module):\n",
        "    def __init__(self):\n",
        "        super(Autoencoder_128, self).__init__()\n",
        "\n",
        "        # Encoder layers\n",
        "        self.encoder = nn.Sequential(\n",
        "            nn.Conv2d(3, 16, kernel_size=3, stride=2, padding=1),\n",
        "            nn.ReLU(),\n",
        "            nn.Conv2d(16, 32, kernel_size=3, stride=2, padding=1),\n",
        "            nn.ReLU(),\n",
        "            nn.Conv2d(32, 64, kernel_size=3, stride=2, padding=1),\n",
        "            nn.ReLU(),\n",
        "            nn.Conv2d(64, 128, kernel_size=3, stride=2, padding=1),\n",
        "            nn.ReLU(),\n",
        "        )\n",
        "        # Decoder layers\n",
        "        self.decoder = nn.Sequential(\n",
        "            nn.ConvTranspose2d(128, 64, kernel_size=3, stride=2, padding=1, output_padding=1),\n",
        "            nn.ReLU(),\n",
        "            nn.ConvTranspose2d(64, 32, kernel_size=3, stride=2, padding=1, output_padding=1),\n",
        "            nn.ReLU(),\n",
        "            nn.ConvTranspose2d(32, 16, kernel_size=3, stride=2, padding=1, output_padding=1),\n",
        "            nn.ReLU(),\n",
        "            nn.ConvTranspose2d(16, 3, kernel_size=3, stride=2, padding=1, output_padding=1),\n",
        "            nn.Sigmoid(),\n",
        "        )\n",
        "\n",
        "    def forward(self, x):\n",
        "        x = self.encoder(x)\n",
        "        x = self.decoder(x)\n",
        "        return x"
      ],
      "metadata": {
        "id": "LxpAQvmacADc"
      },
      "execution_count": 100,
      "outputs": []
    },
    {
      "cell_type": "code",
      "source": [
        "def train_autoencoder(train_set, val_set, latent_size, num_epochs=10, lr=0.001, weight_decay=1e-5):\n",
        "\n",
        "    if latent_size == 32:\n",
        "      model = Autoencoder_32()\n",
        "    elif latent_size == 64:\n",
        "      model = Autoencoder_64()\n",
        "    elif latent_size == 128:\n",
        "      model = Autoencoder_128()\n",
        "    else:\n",
        "      return\n",
        "\n",
        "    #model = Autoencoder()\n",
        "\n",
        "    criterion = nn.MSELoss()\n",
        "    optimizer = optim.Adam(model.parameters(), lr=lr, weight_decay=weight_decay)\n",
        "\n",
        "    train_losses = []\n",
        "    val_losses = []\n",
        "\n",
        "    for epoch in range(num_epochs):\n",
        "        model.train()\n",
        "        running_train_loss = 0.0\n",
        "        for t in train_set:\n",
        "            optimizer.zero_grad()\n",
        "            images = transforms.ToTensor()(t['image'])\n",
        "            outputs = model(images)\n",
        "            loss = criterion(outputs, images)\n",
        "            loss.backward()\n",
        "            optimizer.step()\n",
        "            running_train_loss += loss.item() * images.size(0)\n",
        "        epoch_train_loss = running_train_loss / len(train_set)\n",
        "        train_losses.append(epoch_train_loss)\n",
        "\n",
        "        # Validation loop\n",
        "        model.eval()\n",
        "        running_val_loss = 0.0\n",
        "        with torch.no_grad():\n",
        "            for v in val_set:\n",
        "                images = transforms.ToTensor()(v['image'])\n",
        "                outputs = model(images)\n",
        "                loss = criterion(outputs, images)\n",
        "                running_val_loss += loss.item() * images.size(0)\n",
        "        epoch_val_loss = running_val_loss / len(val_set)\n",
        "        val_losses.append(epoch_val_loss)\n",
        "\n",
        "        print(f'Epoch [{epoch + 1}/{num_epochs}], Train Loss: {epoch_train_loss:.4f}, Val Loss: {epoch_val_loss:.4f}')\n",
        "\n",
        "    return model, train_losses, val_losses"
      ],
      "metadata": {
        "id": "cSsTQn6wd1Vx"
      },
      "execution_count": 101,
      "outputs": []
    },
    {
      "cell_type": "code",
      "source": [
        "# Hyperparameters\n",
        "latent_sizes = [32, 64, 128]  # Define latent sizes to be tuned\n",
        "num_epochs=14\n",
        "lr=0.001\n",
        "weight_decay=1e-5"
      ],
      "metadata": {
        "id": "A_49b93Od8nv"
      },
      "execution_count": 103,
      "outputs": []
    },
    {
      "cell_type": "code",
      "source": [
        "import matplotlib.pyplot as plt\n",
        "best_val_loss = float('inf')\n",
        "best_model = None\n",
        "best_latent_size = None\n",
        "best_train_losses = []\n",
        "best_val_losses = []\n",
        "for latent_size in latent_sizes:\n",
        "    print(f'Training model with latent size: {latent_size}')\n",
        "    model, train_losses, val_losses = train_autoencoder(train_set, val_set, latent_size, num_epochs, lr, weight_decay)\n",
        "    plt.plot(range(1, num_epochs + 1), train_losses, label='Training Loss')\n",
        "    plt.plot(range(1, num_epochs + 1), val_losses, label='Validation Loss')\n",
        "    plt.xlabel('Epoch')\n",
        "    plt.ylabel('Loss')\n",
        "    plt.title('Training and Validation Loss')\n",
        "    plt.legend()\n",
        "    plt.show()\n",
        "    if val_losses[-1] < best_val_loss:\n",
        "        best_val_loss = val_losses[-1]\n",
        "        best_model = model\n",
        "        best_latent_size = latent_size\n",
        "        best_train_losses = train_losses\n",
        "        best_val_losses = val_losses\n",
        "\n",
        "print(f'Best latent size: {best_latent_size}, Best validation loss: {best_val_loss:.4f}')\n",
        ""
      ],
      "metadata": {
        "colab": {
          "base_uri": "https://localhost:8080/",
          "height": 1000
        },
        "id": "MCGwvDMheKxu",
        "outputId": "0f34246e-77ad-456f-ddbe-a487a072ac46"
      },
      "execution_count": 104,
      "outputs": [
        {
          "output_type": "stream",
          "name": "stdout",
          "text": [
            "Training model with latent size: 32\n",
            "Epoch [1/14], Train Loss: 0.1156, Val Loss: 0.0718\n",
            "Epoch [2/14], Train Loss: 0.0383, Val Loss: 0.0481\n",
            "Epoch [3/14], Train Loss: 0.0312, Val Loss: 0.0378\n",
            "Epoch [4/14], Train Loss: 0.0251, Val Loss: 0.0219\n",
            "Epoch [5/14], Train Loss: 0.0192, Val Loss: 0.0181\n",
            "Epoch [6/14], Train Loss: 0.0170, Val Loss: 0.0164\n",
            "Epoch [7/14], Train Loss: 0.0152, Val Loss: 0.0149\n",
            "Epoch [8/14], Train Loss: 0.0138, Val Loss: 0.0138\n",
            "Epoch [9/14], Train Loss: 0.0127, Val Loss: 0.0131\n",
            "Epoch [10/14], Train Loss: 0.0120, Val Loss: 0.0126\n",
            "Epoch [11/14], Train Loss: 0.0114, Val Loss: 0.0122\n",
            "Epoch [12/14], Train Loss: 0.0109, Val Loss: 0.0119\n",
            "Epoch [13/14], Train Loss: 0.0104, Val Loss: 0.0115\n",
            "Epoch [14/14], Train Loss: 0.0100, Val Loss: 0.0113\n"
          ]
        },
        {
          "output_type": "display_data",
          "data": {
            "text/plain": [
              "<Figure size 640x480 with 1 Axes>"
            ],
            "image/png": "[encoded data removed]"
          },
          "metadata": {}
        },
        {
          "output_type": "stream",
          "name": "stdout",
          "text": [
            "Training model with latent size: 64\n",
            "Epoch [1/14], Train Loss: 0.1568, Val Loss: 0.1024\n",
            "Epoch [2/14], Train Loss: 0.0662, Val Loss: 0.0637\n",
            "Epoch [3/14], Train Loss: 0.0521, Val Loss: 0.0552\n",
            "Epoch [4/14], Train Loss: 0.0421, Val Loss: 0.0457\n",
            "Epoch [5/14], Train Loss: 0.0362, Val Loss: 0.0427\n",
            "Epoch [6/14], Train Loss: 0.0324, Val Loss: 0.0631\n",
            "Epoch [7/14], Train Loss: 0.0296, Val Loss: 0.0480\n",
            "Epoch [8/14], Train Loss: 0.0274, Val Loss: 0.0311\n",
            "Epoch [9/14], Train Loss: 0.0252, Val Loss: 0.0566\n",
            "Epoch [10/14], Train Loss: 0.0207, Val Loss: 0.0282\n",
            "Epoch [11/14], Train Loss: 0.0180, Val Loss: 0.0257\n",
            "Epoch [12/14], Train Loss: 0.0168, Val Loss: 0.0270\n",
            "Epoch [13/14], Train Loss: 0.0160, Val Loss: 0.0299\n",
            "Epoch [14/14], Train Loss: 0.0154, Val Loss: 0.0281\n"
          ]
        },
        {
          "output_type": "display_data",
          "data": {
            "text/plain": [
              "<Figure size 640x480 with 1 Axes>"
            ],
            "image/png": "[encoded data removed]"
          },
          "metadata": {}
        },
        {
          "output_type": "stream",
          "name": "stdout",
          "text": [
            "Training model with latent size: 128\n",
            "Epoch [1/14], Train Loss: 0.2210, Val Loss: 0.1679\n",
            "Epoch [2/14], Train Loss: 0.1162, Val Loss: 0.1136\n",
            "Epoch [3/14], Train Loss: 0.0796, Val Loss: 0.0809\n",
            "Epoch [4/14], Train Loss: 0.0658, Val Loss: 0.0640\n",
            "Epoch [5/14], Train Loss: 0.0584, Val Loss: 0.0628\n",
            "Epoch [6/14], Train Loss: 0.0544, Val Loss: 0.0680\n",
            "Epoch [7/14], Train Loss: 0.0523, Val Loss: 0.0547\n",
            "Epoch [8/14], Train Loss: 0.0482, Val Loss: 0.0551\n",
            "Epoch [9/14], Train Loss: 0.0473, Val Loss: 0.0526\n",
            "Epoch [10/14], Train Loss: 0.0448, Val Loss: 0.0491\n",
            "Epoch [11/14], Train Loss: 0.0440, Val Loss: 0.0503\n",
            "Epoch [12/14], Train Loss: 0.0425, Val Loss: 0.0483\n",
            "Epoch [13/14], Train Loss: 0.0409, Val Loss: 0.0475\n",
            "Epoch [14/14], Train Loss: 0.0401, Val Loss: 0.0479\n"
          ]
        },
        {
          "output_type": "display_data",
          "data": {
            "text/plain": [
              "<Figure size 640x480 with 1 Axes>"
            ],
            "image/png": "[encoded data removed]"
          },
          "metadata": {}
        },
        {
          "output_type": "stream",
          "name": "stdout",
          "text": [
            "Best latent size: 32, Best validation loss: 0.0113\n"
          ]
        }
      ]
    },
    {
      "cell_type": "markdown",
      "source": [
        "## **End of Training: Save Best Model and Latent Represenatations**"
      ],
      "metadata": {
        "id": "fmEeG6nDiZm_"
      }
    },
    {
      "cell_type": "code",
      "source": [
        "def save_model_weights(model, filepath):\n",
        "    torch.save(model.state_dict(), filepath)\n",
        "\n",
        "def save_latent_representations(model, dataset, filepath):\n",
        "    model.eval()\n",
        "    latent_reps = []\n",
        "    with torch.no_grad():\n",
        "        for t in dataset:\n",
        "            images = transforms.ToTensor()(t['image'])\n",
        "            latent_rep = model.encoder(images.unsqueeze(0))\n",
        "            latent_reps.append(latent_rep.squeeze().numpy())\n",
        "    np.save(filepath, np.array(latent_reps))\n",
        "\n",
        "save_model_weights(best_model, 'autoencoder_weights.pth')\n",
        "save_latent_representations(best_model, train_set, 'train_latent_reps.npy')\n",
        "save_latent_representations(best_model, val_set, 'val_latent_reps.npy')\n",
        "save_latent_representations(best_model, test_set, 'test_latent_reps.npy')"
      ],
      "metadata": {
        "id": "rEfmowY1hWdf"
      },
      "execution_count": 109,
      "outputs": []
    },
    {
      "cell_type": "code",
      "source": [
        "from google.colab import drive\n",
        "drive.mount('/content/drive')\n",
        "import shutil\n",
        "runtime_files = ['autoencoder_architecture.svg','autoencoder_weights.pth', 'train_latent_reps.npy', 'val_latent_reps.npy', 'test_latent_reps.npy']\n",
        "drive_dir = '/content/drive/My Drive/Winter-2024/Deep-Learning'\n",
        "for file in runtime_files:\n",
        "    shutil.copy(file, drive_dir)"
      ],
      "metadata": {
        "colab": {
          "base_uri": "https://localhost:8080/"
        },
        "id": "ZVSzSTLjmdKF",
        "outputId": "dd2d3574-a5a9-4e12-e55b-1844d80e4031"
      },
      "execution_count": 114,
      "outputs": [
        {
          "output_type": "stream",
          "name": "stdout",
          "text": [
            "Mounted at /content/drive\n"
          ]
        }
      ]
    },
    {
      "cell_type": "markdown",
      "source": [
        "## **Question 1: Implement and train your autoencoder on the subset of the Emoji dataset that you selected and augmented**\n"
      ],
      "metadata": {
        "id": "e9eMMybvHxb_"
      }
    },
    {
      "cell_type": "markdown",
      "source": [
        "### **a. describe your dataset and the steps that you used to create it**"
      ],
      "metadata": {
        "id": "zvPxtzYsOeqc"
      }
    },
    {
      "cell_type": "markdown",
      "source": [
        "The dataset consists of images of emojis with associated text descriptions.\n",
        "\n",
        "To create the dataset, we used the Huggingface Emoji dataset, which provides a collection of emoji images and their corresponding descriptions. We filtered the dataset to select a subset based on specific text descriptions such as \"face,\" \"vampire,\" \"elf,\" \"mage,\" etc.\n",
        "\n",
        "We divided this subset into training, validation, and test sets using a 60/20/20 ratio. Data augmentation techniques such as rotation, flipping, and resizing were applied to increase the diversity of the dataset.\n",
        "\n",
        "Finally, we resized the images to a resolution of 64x64x3 to reduce computational complexity."
      ],
      "metadata": {
        "id": "bFeLec-uOwFz"
      }
    },
    {
      "cell_type": "markdown",
      "source": [
        "### **b. provide a summary of your architecture**"
      ],
      "metadata": {
        "id": "qGEPs4PFPF0D"
      }
    },
    {
      "cell_type": "markdown",
      "source": [
        "The autoencoder architecture consists of an encoder and a decoder, each composed of several convolutional layers. The purpose of the autoencoder is to learn a compressed representation of the input data in the latent space and then reconstruct the original input from this compressed representation.\n",
        "\n",
        "**Encoder:**\n",
        "1.   The encoder takes the input image with 3 channels (for RGB) and applies a series of convolutional layers to progressively reduce the spatial dimensions of the input while increasing the depth.\n",
        "2.   The first convolutional layer has 3 input channels (RGB) and produces 16 output channels using a kernel size of 3x3, a stride of 2, and padding of 1. This operation effectively downsamples the input image by a factor of 2 in each spatial dimension.\n",
        "3.   Subsequent convolutional layers follow a similar pattern, increasing the number of output channels while maintaining the downsampling operation. This hierarchical feature extraction process captures increasingly abstract features of the input image with the final layer at 32.\n",
        "\n",
        "**Decoder:**\n",
        "\n",
        "\n",
        "1.   The decoder aims to reconstruct the original input image from the compressed representation learned by the encoder. It consists of transposed convolutional layers, also known as \"deconvolution\" or \"upsampling\" layers, which perform the opposite operation of convolutional layers by increasing the spatial dimensions while decreasing the depth.\n",
        "2.   The first transposed convolutional layer takes the encoded representation with 32 channels and applies a transposed convolution operation to upsample it to a larger spatial size.\n",
        "3.   Subsequent transposed convolutional layers continue to upsample the feature maps until the final output layer, which has 3 channels corresponding to the RGB channels of the reconstructed image.\n",
        "4.   The output of the final layer is passed through a sigmoid activation function, squashing the pixel values between 0 and 1 to produce a valid image reconstruction."
      ],
      "metadata": {
        "id": "93ISJcBOQUgM"
      }
    },
    {
      "cell_type": "code",
      "source": [
        "from torchviz import make_dot\n",
        "dummy_input = torch.randn(1, 3, 64, 64)\n",
        "\n",
        "output = best_model(dummy_input)\n",
        "make_dot(output, params=dict(best_model.named_parameters()))\n",
        "# dot = make_dot(output, params=dict(best_model.named_parameters()))\n",
        "# dot.format = 'svg'\n",
        "# dot.render('autoencoder_architecture')"
      ],
      "metadata": {
        "colab": {
          "base_uri": "https://localhost:8080/",
          "height": 865
        },
        "id": "77O2q6jePj9v",
        "outputId": "dae54b36-4f43-4f52-8111-26ae0d55a0c8"
      },
      "execution_count": 113,
      "outputs": [
        {
          "output_type": "execute_result",
          "data": {
            "image/svg+xml": "<?xml version=\"1.0\" encoding=\"UTF-8\" standalone=\"no\"?>\n<!DOCTYPE svg PUBLIC \"-//W3C//DTD SVG 1.1//EN\"\n \"http://www.w3.org/Graphics/SVG/1.1/DTD/svg11.dtd\">\n<!-- Generated by graphviz version 2.43.0 (0)\n -->\n<!-- Title: %3 Pages: 1 -->\n<svg width=\"731pt\" height=\"633pt\"\n viewBox=\"0.00 0.00 731.00 633.00\" xmlns=\"http://www.w3.org/2000/svg\" xmlns:xlink=\"http://www.w3.org/1999/xlink\">\n<g id=\"graph0\" class=\"graph\" transform=\"scale(1 1) rotate(0) translate(4 629)\">\n<title>%3</title>\n<polygon fill=\"white\" stroke=\"transparent\" points=\"-4,4 -4,-629 727,-629 727,4 -4,4\"/>\n<!-- 139691982791968 -->\n<g id=\"node1\" class=\"node\">\n<title>139691982791968</title>\n<polygon fill=\"#caff70\" stroke=\"black\" points=\"601,-31 494,-31 494,0 601,0 601,-31\"/>\n<text text-anchor=\"middle\" x=\"547.5\" y=\"-7\" font-family=\"monospace\" font-size=\"10.00\"> (1, 3, 64, 64)</text>\n</g>\n<!-- 139691984327664 -->\n<g id=\"node2\" class=\"node\">\n<title>139691984327664</title>\n<polygon fill=\"lightgrey\" stroke=\"black\" points=\"604,-86 491,-86 491,-67 604,-67 604,-86\"/>\n<text text-anchor=\"middle\" x=\"547.5\" y=\"-74\" font-family=\"monospace\" font-size=\"10.00\">SigmoidBackward0</text>\n</g>\n<!-- 139691984327664&#45;&gt;139691982791968 -->\n<g id=\"edge24\" class=\"edge\">\n<title>139691984327664&#45;&gt;139691982791968</title>\n<path fill=\"none\" stroke=\"black\" d=\"M547.5,-66.79C547.5,-60.07 547.5,-50.4 547.5,-41.34\"/>\n<polygon fill=\"black\" stroke=\"black\" points=\"551,-41.19 547.5,-31.19 544,-41.19 551,-41.19\"/>\n</g>\n<!-- 139691984338512 -->\n<g id=\"node3\" class=\"node\">\n<title>139691984338512</title>\n<polygon fill=\"lightgrey\" stroke=\"black\" points=\"616,-141 479,-141 479,-122 616,-122 616,-141\"/>\n<text text-anchor=\"middle\" x=\"547.5\" y=\"-129\" font-family=\"monospace\" font-size=\"10.00\">ConvolutionBackward0</text>\n</g>\n<!-- 139691984338512&#45;&gt;139691984327664 -->\n<g id=\"edge1\" class=\"edge\">\n<title>139691984338512&#45;&gt;139691984327664</title>\n<path fill=\"none\" stroke=\"black\" d=\"M547.5,-121.75C547.5,-114.8 547.5,-104.85 547.5,-96.13\"/>\n<polygon fill=\"black\" stroke=\"black\" points=\"551,-96.09 547.5,-86.09 544,-96.09 551,-96.09\"/>\n</g>\n<!-- 139691984331168 -->\n<g id=\"node4\" class=\"node\">\n<title>139691984331168</title>\n<polygon fill=\"lightgrey\" stroke=\"black\" points=\"465,-196 370,-196 370,-177 465,-177 465,-196\"/>\n<text text-anchor=\"middle\" x=\"417.5\" y=\"-184\" font-family=\"monospace\" font-size=\"10.00\">ReluBackward0</text>\n</g>\n<!-- 139691984331168&#45;&gt;139691984338512 -->\n<g id=\"edge2\" class=\"edge\">\n<title>139691984331168&#45;&gt;139691984338512</title>\n<path fill=\"none\" stroke=\"black\" d=\"M438.39,-176.98C459.58,-168.34 492.63,-154.87 516.8,-145.02\"/>\n<polygon fill=\"black\" stroke=\"black\" points=\"518.29,-148.19 526.23,-141.17 515.65,-141.7 518.29,-148.19\"/>\n</g>\n<!-- 139691984330016 -->\n<g id=\"node5\" class=\"node\">\n<title>139691984330016</title>\n<polygon fill=\"lightgrey\" stroke=\"black\" points=\"473,-256.5 336,-256.5 336,-237.5 473,-237.5 473,-256.5\"/>\n<text text-anchor=\"middle\" x=\"404.5\" y=\"-244.5\" font-family=\"monospace\" font-size=\"10.00\">ConvolutionBackward0</text>\n</g>\n<!-- 139691984330016&#45;&gt;139691984331168 -->\n<g id=\"edge3\" class=\"edge\">\n<title>139691984330016&#45;&gt;139691984331168</title>\n<path fill=\"none\" stroke=\"black\" d=\"M406.42,-237.37C408.24,-229.16 411.05,-216.54 413.38,-206.05\"/>\n<polygon fill=\"black\" stroke=\"black\" points=\"416.82,-206.69 415.57,-196.17 409.99,-205.17 416.82,-206.69\"/>\n</g>\n<!-- 139691984328336 -->\n<g id=\"node6\" class=\"node\">\n<title>139691984328336</title>\n<polygon fill=\"lightgrey\" stroke=\"black\" points=\"323,-317 228,-317 228,-298 323,-298 323,-317\"/>\n<text text-anchor=\"middle\" x=\"275.5\" y=\"-305\" font-family=\"monospace\" font-size=\"10.00\">ReluBackward0</text>\n</g>\n<!-- 139691984328336&#45;&gt;139691984330016 -->\n<g id=\"edge4\" class=\"edge\">\n<title>139691984328336&#45;&gt;139691984330016</title>\n<path fill=\"none\" stroke=\"black\" d=\"M294.26,-297.99C315.85,-288.2 351.53,-272.02 376.43,-260.73\"/>\n<polygon fill=\"black\" stroke=\"black\" points=\"378.06,-263.83 385.72,-256.52 375.17,-257.46 378.06,-263.83\"/>\n</g>\n<!-- 139691984331360 -->\n<g id=\"node7\" class=\"node\">\n<title>139691984331360</title>\n<polygon fill=\"lightgrey\" stroke=\"black\" points=\"330,-377.5 193,-377.5 193,-358.5 330,-358.5 330,-377.5\"/>\n<text text-anchor=\"middle\" x=\"261.5\" y=\"-365.5\" font-family=\"monospace\" font-size=\"10.00\">ConvolutionBackward0</text>\n</g>\n<!-- 139691984331360&#45;&gt;139691984328336 -->\n<g id=\"edge5\" class=\"edge\">\n<title>139691984331360&#45;&gt;139691984328336</title>\n<path fill=\"none\" stroke=\"black\" d=\"M263.57,-358.37C265.53,-350.16 268.55,-337.54 271.06,-327.05\"/>\n<polygon fill=\"black\" stroke=\"black\" points=\"274.5,-327.71 273.43,-317.17 267.69,-326.08 274.5,-327.71\"/>\n</g>\n<!-- 139691984335536 -->\n<g id=\"node8\" class=\"node\">\n<title>139691984335536</title>\n<polygon fill=\"lightgrey\" stroke=\"black\" points=\"180,-438 85,-438 85,-419 180,-419 180,-438\"/>\n<text text-anchor=\"middle\" x=\"132.5\" y=\"-426\" font-family=\"monospace\" font-size=\"10.00\">ReluBackward0</text>\n</g>\n<!-- 139691984335536&#45;&gt;139691984331360 -->\n<g id=\"edge6\" class=\"edge\">\n<title>139691984335536&#45;&gt;139691984331360</title>\n<path fill=\"none\" stroke=\"black\" d=\"M151.26,-418.99C172.85,-409.2 208.53,-393.02 233.43,-381.73\"/>\n<polygon fill=\"black\" stroke=\"black\" points=\"235.06,-384.83 242.72,-377.52 232.17,-378.46 235.06,-384.83\"/>\n</g>\n<!-- 139691984337168 -->\n<g id=\"node9\" class=\"node\">\n<title>139691984337168</title>\n<polygon fill=\"lightgrey\" stroke=\"black\" points=\"187,-498.5 50,-498.5 50,-479.5 187,-479.5 187,-498.5\"/>\n<text text-anchor=\"middle\" x=\"118.5\" y=\"-486.5\" font-family=\"monospace\" font-size=\"10.00\">ConvolutionBackward0</text>\n</g>\n<!-- 139691984337168&#45;&gt;139691984335536 -->\n<g id=\"edge7\" class=\"edge\">\n<title>139691984337168&#45;&gt;139691984335536</title>\n<path fill=\"none\" stroke=\"black\" d=\"M120.57,-479.37C122.53,-471.16 125.55,-458.54 128.06,-448.05\"/>\n<polygon fill=\"black\" stroke=\"black\" points=\"131.5,-448.71 130.43,-438.17 124.69,-447.08 131.5,-448.71\"/>\n</g>\n<!-- 139691984338080 -->\n<g id=\"node10\" class=\"node\">\n<title>139691984338080</title>\n<polygon fill=\"lightgrey\" stroke=\"black\" points=\"110,-559 9,-559 9,-540 110,-540 110,-559\"/>\n<text text-anchor=\"middle\" x=\"59.5\" y=\"-547\" font-family=\"monospace\" font-size=\"10.00\">AccumulateGrad</text>\n</g>\n<!-- 139691984338080&#45;&gt;139691984337168 -->\n<g id=\"edge8\" class=\"edge\">\n<title>139691984338080&#45;&gt;139691984337168</title>\n<path fill=\"none\" stroke=\"black\" d=\"M68.21,-539.87C77.18,-530.97 91.38,-516.89 102.41,-505.95\"/>\n<polygon fill=\"black\" stroke=\"black\" points=\"105.12,-508.19 109.76,-498.67 100.19,-503.22 105.12,-508.19\"/>\n</g>\n<!-- 139692021638752 -->\n<g id=\"node11\" class=\"node\">\n<title>139692021638752</title>\n<polygon fill=\"lightblue\" stroke=\"black\" points=\"113,-625 0,-625 0,-595 113,-595 113,-625\"/>\n<text text-anchor=\"middle\" x=\"56.5\" y=\"-613\" font-family=\"monospace\" font-size=\"10.00\">encoder.0.weight</text>\n<text text-anchor=\"middle\" x=\"56.5\" y=\"-602\" font-family=\"monospace\" font-size=\"10.00\"> (16, 3, 3, 3)</text>\n</g>\n<!-- 139692021638752&#45;&gt;139691984338080 -->\n<g id=\"edge9\" class=\"edge\">\n<title>139692021638752&#45;&gt;139691984338080</title>\n<path fill=\"none\" stroke=\"black\" d=\"M57.23,-594.84C57.62,-587.21 58.1,-577.7 58.53,-569.45\"/>\n<polygon fill=\"black\" stroke=\"black\" points=\"62.03,-569.43 59.05,-559.27 55.04,-569.07 62.03,-569.43\"/>\n</g>\n<!-- 139691984333808 -->\n<g id=\"node12\" class=\"node\">\n<title>139691984333808</title>\n<polygon fill=\"lightgrey\" stroke=\"black\" points=\"230,-559 129,-559 129,-540 230,-540 230,-559\"/>\n<text text-anchor=\"middle\" x=\"179.5\" y=\"-547\" font-family=\"monospace\" font-size=\"10.00\">AccumulateGrad</text>\n</g>\n<!-- 139691984333808&#45;&gt;139691984337168 -->\n<g id=\"edge10\" class=\"edge\">\n<title>139691984333808&#45;&gt;139691984337168</title>\n<path fill=\"none\" stroke=\"black\" d=\"M170.5,-539.87C161.13,-530.88 146.25,-516.61 134.8,-505.64\"/>\n<polygon fill=\"black\" stroke=\"black\" points=\"137.18,-503.06 127.54,-498.67 132.33,-508.12 137.18,-503.06\"/>\n</g>\n<!-- 139692021673200 -->\n<g id=\"node13\" class=\"node\">\n<title>139692021673200</title>\n<polygon fill=\"lightblue\" stroke=\"black\" points=\"232,-625 131,-625 131,-595 232,-595 232,-625\"/>\n<text text-anchor=\"middle\" x=\"181.5\" y=\"-613\" font-family=\"monospace\" font-size=\"10.00\">encoder.0.bias</text>\n<text text-anchor=\"middle\" x=\"181.5\" y=\"-602\" font-family=\"monospace\" font-size=\"10.00\"> (16)</text>\n</g>\n<!-- 139692021673200&#45;&gt;139691984333808 -->\n<g id=\"edge11\" class=\"edge\">\n<title>139692021673200&#45;&gt;139691984333808</title>\n<path fill=\"none\" stroke=\"black\" d=\"M181.02,-594.84C180.76,-587.21 180.43,-577.7 180.15,-569.45\"/>\n<polygon fill=\"black\" stroke=\"black\" points=\"183.64,-569.14 179.8,-559.27 176.64,-569.38 183.64,-569.14\"/>\n</g>\n<!-- 139691984338800 -->\n<g id=\"node14\" class=\"node\">\n<title>139691984338800</title>\n<polygon fill=\"lightgrey\" stroke=\"black\" points=\"312,-438 211,-438 211,-419 312,-419 312,-438\"/>\n<text text-anchor=\"middle\" x=\"261.5\" y=\"-426\" font-family=\"monospace\" font-size=\"10.00\">AccumulateGrad</text>\n</g>\n<!-- 139691984338800&#45;&gt;139691984331360 -->\n<g id=\"edge12\" class=\"edge\">\n<title>139691984338800&#45;&gt;139691984331360</title>\n<path fill=\"none\" stroke=\"black\" d=\"M261.5,-418.87C261.5,-410.75 261.5,-398.31 261.5,-387.89\"/>\n<polygon fill=\"black\" stroke=\"black\" points=\"265,-387.67 261.5,-377.67 258,-387.67 265,-387.67\"/>\n</g>\n<!-- 139691985082928 -->\n<g id=\"node15\" class=\"node\">\n<title>139691985082928</title>\n<polygon fill=\"lightblue\" stroke=\"black\" points=\"318,-504 205,-504 205,-474 318,-474 318,-504\"/>\n<text text-anchor=\"middle\" x=\"261.5\" y=\"-492\" font-family=\"monospace\" font-size=\"10.00\">encoder.2.weight</text>\n<text text-anchor=\"middle\" x=\"261.5\" y=\"-481\" font-family=\"monospace\" font-size=\"10.00\"> (32, 16, 3, 3)</text>\n</g>\n<!-- 139691985082928&#45;&gt;139691984338800 -->\n<g id=\"edge13\" class=\"edge\">\n<title>139691985082928&#45;&gt;139691984338800</title>\n<path fill=\"none\" stroke=\"black\" d=\"M261.5,-473.84C261.5,-466.21 261.5,-456.7 261.5,-448.45\"/>\n<polygon fill=\"black\" stroke=\"black\" points=\"265,-448.27 261.5,-438.27 258,-448.27 265,-448.27\"/>\n</g>\n<!-- 139691984324160 -->\n<g id=\"node16\" class=\"node\">\n<title>139691984324160</title>\n<polygon fill=\"lightgrey\" stroke=\"black\" points=\"434,-438 333,-438 333,-419 434,-419 434,-438\"/>\n<text text-anchor=\"middle\" x=\"383.5\" y=\"-426\" font-family=\"monospace\" font-size=\"10.00\">AccumulateGrad</text>\n</g>\n<!-- 139691984324160&#45;&gt;139691984331360 -->\n<g id=\"edge14\" class=\"edge\">\n<title>139691984324160&#45;&gt;139691984331360</title>\n<path fill=\"none\" stroke=\"black\" d=\"M365.76,-418.99C345.43,-409.25 311.89,-393.16 288.36,-381.88\"/>\n<polygon fill=\"black\" stroke=\"black\" points=\"289.79,-378.68 279.26,-377.52 286.76,-385 289.79,-378.68\"/>\n</g>\n<!-- 139692020705744 -->\n<g id=\"node17\" class=\"node\">\n<title>139692020705744</title>\n<polygon fill=\"lightblue\" stroke=\"black\" points=\"437,-504 336,-504 336,-474 437,-474 437,-504\"/>\n<text text-anchor=\"middle\" x=\"386.5\" y=\"-492\" font-family=\"monospace\" font-size=\"10.00\">encoder.2.bias</text>\n<text text-anchor=\"middle\" x=\"386.5\" y=\"-481\" font-family=\"monospace\" font-size=\"10.00\"> (32)</text>\n</g>\n<!-- 139692020705744&#45;&gt;139691984324160 -->\n<g id=\"edge15\" class=\"edge\">\n<title>139692020705744&#45;&gt;139691984324160</title>\n<path fill=\"none\" stroke=\"black\" d=\"M385.77,-473.84C385.38,-466.21 384.9,-456.7 384.47,-448.45\"/>\n<polygon fill=\"black\" stroke=\"black\" points=\"387.96,-448.07 383.95,-438.27 380.97,-448.43 387.96,-448.07\"/>\n</g>\n<!-- 139691984334192 -->\n<g id=\"node18\" class=\"node\">\n<title>139691984334192</title>\n<polygon fill=\"lightgrey\" stroke=\"black\" points=\"455,-317 354,-317 354,-298 455,-298 455,-317\"/>\n<text text-anchor=\"middle\" x=\"404.5\" y=\"-305\" font-family=\"monospace\" font-size=\"10.00\">AccumulateGrad</text>\n</g>\n<!-- 139691984334192&#45;&gt;139691984330016 -->\n<g id=\"edge16\" class=\"edge\">\n<title>139691984334192&#45;&gt;139691984330016</title>\n<path fill=\"none\" stroke=\"black\" d=\"M404.5,-297.87C404.5,-289.75 404.5,-277.31 404.5,-266.89\"/>\n<polygon fill=\"black\" stroke=\"black\" points=\"408,-266.67 404.5,-256.67 401,-266.67 408,-266.67\"/>\n</g>\n<!-- 139692020948064 -->\n<g id=\"node19\" class=\"node\">\n<title>139692020948064</title>\n<polygon fill=\"lightblue\" stroke=\"black\" points=\"461,-383 348,-383 348,-353 461,-353 461,-383\"/>\n<text text-anchor=\"middle\" x=\"404.5\" y=\"-371\" font-family=\"monospace\" font-size=\"10.00\">decoder.0.weight</text>\n<text text-anchor=\"middle\" x=\"404.5\" y=\"-360\" font-family=\"monospace\" font-size=\"10.00\"> (32, 16, 3, 3)</text>\n</g>\n<!-- 139692020948064&#45;&gt;139691984334192 -->\n<g id=\"edge17\" class=\"edge\">\n<title>139692020948064&#45;&gt;139691984334192</title>\n<path fill=\"none\" stroke=\"black\" d=\"M404.5,-352.84C404.5,-345.21 404.5,-335.7 404.5,-327.45\"/>\n<polygon fill=\"black\" stroke=\"black\" points=\"408,-327.27 404.5,-317.27 401,-327.27 408,-327.27\"/>\n</g>\n<!-- 139691984330976 -->\n<g id=\"node20\" class=\"node\">\n<title>139691984330976</title>\n<polygon fill=\"lightgrey\" stroke=\"black\" points=\"577,-317 476,-317 476,-298 577,-298 577,-317\"/>\n<text text-anchor=\"middle\" x=\"526.5\" y=\"-305\" font-family=\"monospace\" font-size=\"10.00\">AccumulateGrad</text>\n</g>\n<!-- 139691984330976&#45;&gt;139691984330016 -->\n<g id=\"edge18\" class=\"edge\">\n<title>139691984330976&#45;&gt;139691984330016</title>\n<path fill=\"none\" stroke=\"black\" d=\"M508.76,-297.99C488.43,-288.25 454.89,-272.16 431.36,-260.88\"/>\n<polygon fill=\"black\" stroke=\"black\" points=\"432.79,-257.68 422.26,-256.52 429.76,-264 432.79,-257.68\"/>\n</g>\n<!-- 139691985093472 -->\n<g id=\"node21\" class=\"node\">\n<title>139691985093472</title>\n<polygon fill=\"lightblue\" stroke=\"black\" points=\"580,-383 479,-383 479,-353 580,-353 580,-383\"/>\n<text text-anchor=\"middle\" x=\"529.5\" y=\"-371\" font-family=\"monospace\" font-size=\"10.00\">decoder.0.bias</text>\n<text text-anchor=\"middle\" x=\"529.5\" y=\"-360\" font-family=\"monospace\" font-size=\"10.00\"> (16)</text>\n</g>\n<!-- 139691985093472&#45;&gt;139691984330976 -->\n<g id=\"edge19\" class=\"edge\">\n<title>139691985093472&#45;&gt;139691984330976</title>\n<path fill=\"none\" stroke=\"black\" d=\"M528.77,-352.84C528.38,-345.21 527.9,-335.7 527.47,-327.45\"/>\n<polygon fill=\"black\" stroke=\"black\" points=\"530.96,-327.07 526.95,-317.27 523.97,-327.43 530.96,-327.07\"/>\n</g>\n<!-- 139691984329104 -->\n<g id=\"node22\" class=\"node\">\n<title>139691984329104</title>\n<polygon fill=\"lightgrey\" stroke=\"black\" points=\"598,-196 497,-196 497,-177 598,-177 598,-196\"/>\n<text text-anchor=\"middle\" x=\"547.5\" y=\"-184\" font-family=\"monospace\" font-size=\"10.00\">AccumulateGrad</text>\n</g>\n<!-- 139691984329104&#45;&gt;139691984338512 -->\n<g id=\"edge20\" class=\"edge\">\n<title>139691984329104&#45;&gt;139691984338512</title>\n<path fill=\"none\" stroke=\"black\" d=\"M547.5,-176.75C547.5,-169.8 547.5,-159.85 547.5,-151.13\"/>\n<polygon fill=\"black\" stroke=\"black\" points=\"551,-151.09 547.5,-141.09 544,-151.09 551,-151.09\"/>\n</g>\n<!-- 139691985102112 -->\n<g id=\"node23\" class=\"node\">\n<title>139691985102112</title>\n<polygon fill=\"lightblue\" stroke=\"black\" points=\"604,-262 491,-262 491,-232 604,-232 604,-262\"/>\n<text text-anchor=\"middle\" x=\"547.5\" y=\"-250\" font-family=\"monospace\" font-size=\"10.00\">decoder.2.weight</text>\n<text text-anchor=\"middle\" x=\"547.5\" y=\"-239\" font-family=\"monospace\" font-size=\"10.00\"> (16, 3, 3, 3)</text>\n</g>\n<!-- 139691985102112&#45;&gt;139691984329104 -->\n<g id=\"edge21\" class=\"edge\">\n<title>139691985102112&#45;&gt;139691984329104</title>\n<path fill=\"none\" stroke=\"black\" d=\"M547.5,-231.84C547.5,-224.21 547.5,-214.7 547.5,-206.45\"/>\n<polygon fill=\"black\" stroke=\"black\" points=\"551,-206.27 547.5,-196.27 544,-206.27 551,-206.27\"/>\n</g>\n<!-- 139691984331744 -->\n<g id=\"node24\" class=\"node\">\n<title>139691984331744</title>\n<polygon fill=\"lightgrey\" stroke=\"black\" points=\"720,-196 619,-196 619,-177 720,-177 720,-196\"/>\n<text text-anchor=\"middle\" x=\"669.5\" y=\"-184\" font-family=\"monospace\" font-size=\"10.00\">AccumulateGrad</text>\n</g>\n<!-- 139691984331744&#45;&gt;139691984338512 -->\n<g id=\"edge22\" class=\"edge\">\n<title>139691984331744&#45;&gt;139691984338512</title>\n<path fill=\"none\" stroke=\"black\" d=\"M649.9,-176.98C630.18,-168.42 599.55,-155.11 576.92,-145.28\"/>\n<polygon fill=\"black\" stroke=\"black\" points=\"578.02,-141.94 567.46,-141.17 575.24,-148.37 578.02,-141.94\"/>\n</g>\n<!-- 139691985094352 -->\n<g id=\"node25\" class=\"node\">\n<title>139691985094352</title>\n<polygon fill=\"lightblue\" stroke=\"black\" points=\"723,-262 622,-262 622,-232 723,-232 723,-262\"/>\n<text text-anchor=\"middle\" x=\"672.5\" y=\"-250\" font-family=\"monospace\" font-size=\"10.00\">decoder.2.bias</text>\n<text text-anchor=\"middle\" x=\"672.5\" y=\"-239\" font-family=\"monospace\" font-size=\"10.00\"> (3)</text>\n</g>\n<!-- 139691985094352&#45;&gt;139691984331744 -->\n<g id=\"edge23\" class=\"edge\">\n<title>139691985094352&#45;&gt;139691984331744</title>\n<path fill=\"none\" stroke=\"black\" d=\"M671.77,-231.84C671.38,-224.21 670.9,-214.7 670.47,-206.45\"/>\n<polygon fill=\"black\" stroke=\"black\" points=\"673.96,-206.07 669.95,-196.27 666.97,-206.43 673.96,-206.07\"/>\n</g>\n</g>\n</svg>\n",
            "text/plain": [
              "<graphviz.graphs.Digraph at 0x7f0c931ab250>"
            ]
          },
          "metadata": {},
          "execution_count": 113
        }
      ]
    },
    {
      "cell_type": "markdown",
      "source": [
        "### **c. discuss and explain your design choices**"
      ],
      "metadata": {
        "id": "yY3wzOTiS3gV"
      }
    },
    {
      "cell_type": "markdown",
      "source": [
        "\n",
        "\n",
        "*   **Convolutional Layers**: We chose convolutional layers for both the encoder and decoder to effectively capture spatial relationships in images.\n",
        "*   **ReLU Activation**: ReLU activation functions were selected for their simplicity and effectiveness in introducing non-linearity to the network.\n",
        "*   **Convolutional and Transposed Convolutional Layers**: Regular convolutional layers downsample input images in the encoder, while transposed convolutional layers upsample features in the decoder.\n",
        "*   **Latent Space Dimensionality**: A latent space dimensionality of 32 was chosen to balance the level of compression and model complexity.\n",
        "*   **Output Activation**: Sigmoid activation in the output layer ensures output images conform to a valid pixel value range.\n",
        "*   **Model Complexity and Efficiency**: The architecture strikes a balance between model complexity and computational efficiency, optimizing performance while remaining tractable for training and inference."
      ],
      "metadata": {
        "id": "5pPVOdsDS4ir"
      }
    },
    {
      "cell_type": "markdown",
      "source": [
        "### **d. list hyper-parameters used in the model**"
      ],
      "metadata": {
        "id": "yfmefD16TTG8"
      }
    },
    {
      "cell_type": "markdown",
      "source": [
        "\n",
        "\n",
        "*   **Learning Rate (lr)**: 0.001.\n",
        "*   **Number of Epochs (num_epochs)**: 14 epochs.\n",
        "*   **Latent Size**: 32.\n",
        "*   **Regularization weight_decay**: 1e-5"
      ],
      "metadata": {
        "id": "ujsLU-gHTX6D"
      }
    },
    {
      "cell_type": "markdown",
      "source": [
        "### **e. plot learning curves for training and validation loss as a function of training epochs**"
      ],
      "metadata": {
        "id": "Ggs25B31Udg5"
      }
    },
    {
      "cell_type": "code",
      "source": [
        "import matplotlib.pyplot as plt\n",
        "\n",
        "plt.plot(range(1, num_epochs + 1), best_train_losses, label='Training Loss')\n",
        "plt.plot(range(1, num_epochs + 1), best_val_losses, label='Validation Loss')\n",
        "plt.xlabel('Epoch')\n",
        "plt.ylabel('Loss')\n",
        "plt.title('Training and Validation Loss')\n",
        "plt.legend()\n",
        "plt.show()"
      ],
      "metadata": {
        "colab": {
          "base_uri": "https://localhost:8080/",
          "height": 472
        },
        "id": "WLbytL6fJFk9",
        "outputId": "5b1dbca5-00f5-4e47-ddb4-82ce8e30262c"
      },
      "execution_count": 106,
      "outputs": [
        {
          "output_type": "display_data",
          "data": {
            "text/plain": [
              "<Figure size 640x480 with 1 Axes>"
            ],
            "image/png": "[encoded data removed]"
          },
          "metadata": {}
        }
      ]
    },
    {
      "cell_type": "markdown",
      "source": [
        "### **f. provide the final average error of your autoencoder on your test set**"
      ],
      "metadata": {
        "id": "5zqo5yqAUuFx"
      }
    },
    {
      "cell_type": "code",
      "source": [
        "best_model.eval()\n",
        "criterion = nn.MSELoss()\n",
        "running_test_loss = 0.0\n",
        "with torch.no_grad():\n",
        "    for t in test_set:\n",
        "        images = transforms.ToTensor()(t['image'])\n",
        "        outputs = best_model(images)\n",
        "        loss = criterion(outputs, images)\n",
        "        running_test_loss += loss.item() * images.size(0)\n",
        "test_loss = running_test_loss / len(test_set)\n",
        "\n",
        "print(f'Final average error on the test set: {test_loss:.4f}')"
      ],
      "metadata": {
        "colab": {
          "base_uri": "https://localhost:8080/"
        },
        "id": "oGHUP9AQN2aJ",
        "outputId": "db59ed47-aedd-444a-e4dd-a7cc4c4d2827"
      },
      "execution_count": 107,
      "outputs": [
        {
          "output_type": "stream",
          "name": "stdout",
          "text": [
            "Final average error on the test set: 0.0113\n"
          ]
        }
      ]
    },
    {
      "cell_type": "markdown",
      "source": [
        "### PENDING **g. discuss any decisions or observations that you find relevant.**"
      ],
      "metadata": {
        "id": "1tIpwtQzVjWy"
      }
    },
    {
      "cell_type": "markdown",
      "source": [],
      "metadata": {
        "id": "hVf4OLxsVjRu"
      }
    },
    {
      "cell_type": "markdown",
      "source": [
        "## **Question 2:**\n",
        "\n",
        "*(5.0 points)*\n",
        "\n",
        "Separate your dataset into two or more classes using Emoji descriptions and assign labels. Repeat Step 1 adding image classification as an auxiliary task to MSE with a λ of your choosing.\n",
        "\n",
        "You can choose any classification technique.\n",
        "\n",
        "\n",
        "\n",
        "*   describe how you separated your dataset into classes\n",
        "*   describe your classification technique and hyper-parameters\n",
        "*   plot learning curves for training and validation loss for MSE and classification accuracy\n",
        "*   discuss how incorporating classification as an auxiliary tasks impacts the performance of your autoencoder\n",
        "*   speculate why performance changed and recommend (but do not implement) an experiment to confirm or reject your speculation."
      ],
      "metadata": {
        "id": "HflmMXEr8UOX"
      }
    },
    {
      "cell_type": "markdown",
      "source": [
        "### **a.   Describe how you separated your dataset into classes**\n"
      ],
      "metadata": {
        "id": "jtYFw5ZI9ZvC"
      }
    },
    {
      "cell_type": "markdown",
      "source": [
        "For separating the dataset into classes, we utilized the descriptions of emojis to categorize them into two classes: \"**fictional**\" and \"**non-fictional**\".\n",
        "\n",
        "Emojis associated with descriptions like \"*vampire*\", \"*elf*\", \"*mage*\", etc., were labeled as \"fictional\", while those lacking such descriptors were categorized as \"non-fictional\".\n",
        "\n",
        "This approach allowed us to create distinct class labels based on semantic information present in the emoji descriptions, facilitating the classification task."
      ],
      "metadata": {
        "id": "NVLyKxW-9oLH"
      }
    },
    {
      "cell_type": "code",
      "source": [
        "print(\"Subset example:\", labeled_subset[25])\n",
        "print(\"Subset example:\", labeled_subset[100])"
      ],
      "metadata": {
        "colab": {
          "base_uri": "https://localhost:8080/"
        },
        "id": "lRY7kqBl9YB8",
        "outputId": "c009ff85-72a3-4a63-a80d-370c4e7feb4e"
      },
      "execution_count": null,
      "outputs": [
        {
          "output_type": "stream",
          "name": "stdout",
          "text": [
            "Subset example: {'text': 'cat face with tears of joy', 'class_fiction': 'non-fictional', 'image': <PIL.PngImagePlugin.PngImageFile image mode=RGB size=256x256 at 0x78A86AB0C550>}\n",
            "Subset example: {'text': 'man elf dark skin tone', 'class_fiction': 'fictional', 'image': <PIL.PngImagePlugin.PngImageFile image mode=RGB size=256x256 at 0x78A86AB0EA70>}\n"
          ]
        }
      ]
    },
    {
      "cell_type": "markdown",
      "source": [
        "### **b. Describe your classification technique and hyper-parameters**"
      ],
      "metadata": {
        "id": "p8GaJYDx_bJx"
      }
    }
  ]
}